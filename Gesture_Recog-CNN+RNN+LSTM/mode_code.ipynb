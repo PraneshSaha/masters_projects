{
 "cells": [
  {
   "cell_type": "markdown",
   "metadata": {},
   "source": [
    "# Gesture Recognition\n",
    "In this group project, you are going to build a 3D Conv model that will be able to predict the 5 gestures correctly. Please import the following libraries to get started."
   ]
  },
  {
   "cell_type": "code",
   "execution_count": 63,
   "metadata": {},
   "outputs": [],
   "source": [
    "import numpy as np\n",
    "import os\n",
    "from scipy.misc import imread, imresize\n",
    "import datetime\n",
    "import os\n",
    "import warnings\n",
    "warnings.filterwarnings('ignore')"
   ]
  },
  {
   "cell_type": "markdown",
   "metadata": {},
   "source": [
    "We set the random seed so that the results don't vary drastically."
   ]
  },
  {
   "cell_type": "code",
   "execution_count": 64,
   "metadata": {},
   "outputs": [],
   "source": [
    "np.random.seed(30)\n",
    "import random as rn\n",
    "rn.seed(30)\n",
    "from keras import backend as K\n",
    "import tensorflow as tf\n",
    "tf.set_random_seed(30)\n",
    "from scipy import ndimage"
   ]
  },
  {
   "cell_type": "markdown",
   "metadata": {},
   "source": [
    "In this block, you read the folder names for training and validation. You also set the `batch_size` here. Note that you set the batch size in such a way that you are able to use the GPU in full capacity. You keep increasing the batch size until the machine throws an error."
   ]
  },
  {
   "cell_type": "code",
   "execution_count": 65,
   "metadata": {},
   "outputs": [],
   "source": [
    "train_doc = np.random.permutation(open('Project_data/train.csv').readlines())\n",
    "val_doc = np.random.permutation(open('Project_data/val.csv').readlines())\n",
    "batch_size = 46 #experiment with the batch size"
   ]
  },
  {
   "cell_type": "markdown",
   "metadata": {},
   "source": [
    "## Generator\n",
    "This is one of the most important part of the code. The overall structure of the generator has been given. In the generator, you are going to preprocess the images as you have images of 2 different dimensions as well as create a batch of video frames. You have to experiment with `img_idx`, `y`,`z` and normalization such that you get high accuracy."
   ]
  },
  {
   "cell_type": "code",
   "execution_count": 66,
   "metadata": {},
   "outputs": [],
   "source": [
    "def generator(source_path, folder_list, batch_size,image_size=(120,120),skip=1):\n",
    "    print( 'Source path = ', source_path, '; batch size =', batch_size)\n",
    "    img_idx = list(range(0,30,skip))#create a list of image numbers you want to use for a particular video\n",
    "    x = len(img_idx)\n",
    "    y,z = image_size\n",
    "    while True:\n",
    "        t = np.random.permutation(folder_list)\n",
    "        num_batches = len(folder_list)//batch_size # calculate the number of batches\n",
    "        for batch in range(num_batches): # we iterate over the number of batches\n",
    "            batch_data = np.zeros((batch_size,x,y,z,3)) # x is the number of images you use for each video, (y,z) is the final size of the input images and 3 is the number of channels RGB\n",
    "            batch_labels = np.zeros((batch_size,5)) # batch_labels is the one hot representation of the output\n",
    "            for folder in range(batch_size): # iterate over the batch_size\n",
    "                imgs = os.listdir(source_path+'/'+ t[folder + (batch*batch_size)].split(';')[0]) # read all the images in the folder\n",
    "                for idx,item in enumerate(img_idx): #  Iterate iver the frames/images of a folder to read them in\n",
    "                    image = imread(source_path+'/'+ t[folder + (batch*batch_size)].strip().split(';')[0]+'/'+imgs[item]).astype(np.float32)\n",
    "                    \n",
    "                    #crop the images and resize them. Note that the images are of 2 different shape \n",
    "                    image = imresize(image,(y,z,3))\n",
    "                    #and the conv3D will throw error if the inputs in a batch have different shapes\n",
    "                    \n",
    "                    batch_data[folder,idx,:,:,0] = image[:,:,0]/np.max(image[:,:,0])#normalise and feed in the image\n",
    "                    batch_data[folder,idx,:,:,1] = image[:,:,1]/np.max(image[:,:,1])##normalise and feed in the image\n",
    "                    batch_data[folder,idx,:,:,2] = image[:,:,2]/np.max(image[:,:,2])##normalise and feed in the image\n",
    "                    \n",
    "                batch_labels[folder, int(t[folder + (batch*batch_size)].strip().split(';')[2])] = 1\n",
    "            yield batch_data, batch_labels #you yield the batch_data and the batch_labels, remember what does yield do\n",
    "        \n",
    "        # write the code for the remaining data points which are left after full batches\n",
    "        if num_batches*batch_size < len(folder_list):\n",
    "            folders_left = t[num_batches*batch_size+1:]\n",
    "            new_batch_size = len(folders_left)\n",
    "            batch_data = np.zeros((new_batch_size,x,y,z,3))\n",
    "            batch_labels = np.zeros((new_batch_size,5))\n",
    "            for folder in range(new_batch_size):\n",
    "                imgs = os.listdir(source_path+'/'+ folders_left[folder].split(';')[0]) # read all the images in the folder\n",
    "                for idx,item in enumerate(img_idx): #  Iterate iver the frames/images of a folder to read them in\n",
    "                    image = imread(source_path+'/'+ folders_left[folder].strip().split(';')[0]+'/'+imgs[item]).astype(np.float32)\n",
    "                    \n",
    "                    #crop the images and resize them. Note that the images are of 2 different shape \n",
    "                    image = imresize(image,(y,z,3))                    \n",
    "                    \n",
    "                    batch_data[folder,idx,:,:,0] = image[:,:,0]/np.max(image[:,:,0])#normalise and feed in the image\n",
    "                    batch_data[folder,idx,:,:,1] = image[:,:,1]/np.max(image[:,:,1])##normalise and feed in the image\n",
    "                    batch_data[folder,idx,:,:,2] = image[:,:,2]/np.max(image[:,:,2])##normalise and feed in the image\n",
    "                    \n",
    "                batch_labels[folder, int(folders_left[folder].strip().split(';')[2])] = 1\n",
    "            yield batch_data, batch_labels\n",
    "                \n",
    "        \n",
    "        \n"
   ]
  },
  {
   "cell_type": "markdown",
   "metadata": {},
   "source": [
    "Note here that a video is represented above in the generator as (number of images, height, width, number of channels). Take this into consideration while creating the model architecture."
   ]
  },
  {
   "cell_type": "code",
   "execution_count": 67,
   "metadata": {},
   "outputs": [
    {
     "name": "stdout",
     "output_type": "stream",
     "text": [
      "# training sequences = 663\n",
      "# validation sequences = 100\n",
      "# epochs = 50\n"
     ]
    }
   ],
   "source": [
    "curr_dt_time = datetime.datetime.now()\n",
    "train_path = 'Project_data/train'\n",
    "val_path = 'Project_data/val'\n",
    "num_train_sequences = len(train_doc)\n",
    "print('# training sequences =', num_train_sequences)\n",
    "num_val_sequences = len(val_doc)\n",
    "print('# validation sequences =', num_val_sequences)\n",
    "num_epochs = 50# choose the number of epochs\n",
    "print ('# epochs =', num_epochs)"
   ]
  },
  {
   "cell_type": "markdown",
   "metadata": {},
   "source": [
    "## Model\n",
    "Here you make the model using different functionalities that Keras provides. Remember to use `Conv3D` and `MaxPooling3D` and not `Conv2D` and `Maxpooling2D` for a 3D convolution model. You would want to use `TimeDistributed` while building a Conv2D + RNN model. Also remember that the last layer is the softmax. Design the network in such a way that the model is able to give good accuracy on the least number of parameters so that it can fit in the memory of the webcam."
   ]
  },
  {
   "cell_type": "code",
   "execution_count": 76,
   "metadata": {},
   "outputs": [],
   "source": [
    "from keras.models import Sequential, Model\n",
    "from keras.layers import Dense, GRU, Flatten, TimeDistributed, Flatten, BatchNormalization, Activation, Dropout, Reshape,LSTM\n",
    "from keras.layers.convolutional import Conv3D, MaxPooling3D\n",
    "from keras.callbacks import ModelCheckpoint, ReduceLROnPlateau\n",
    "from keras import optimizers\n",
    "import keras\n",
    "from keras.preprocessing.image import ImageDataGenerator\n",
    "#write your model here\n",
    "\n",
    "def make_model(input_shape, num_classes, data_augment=False, dropout_prob=0.0):\n",
    "    inputs = keras.Input(shape=input_shape)\n",
    "    # Image augmentation block\n",
    "    x = inputs\n",
    "    \n",
    "    for i in range(2):\n",
    "        x = Conv3D(32, 5, padding=\"same\")(x)\n",
    "        x = Activation(\"relu\")(x)\n",
    "        x = MaxPooling3D(2)(x)\n",
    "    \n",
    "    for i in range(2):\n",
    "        x = Conv3D(16, 3, padding=\"same\")(x)\n",
    "        x = Activation(\"relu\")(x)\n",
    "        x = MaxPooling3D([1,2,2])(x)\n",
    "\n",
    "    x = Flatten()(x)\n",
    "    \n",
    "    x = Dropout(0.8)(x)\n",
    "    x = Dense(100, activation = \"relu\")(x)\n",
    "\n",
    "    activation = \"softmax\"\n",
    "    units = num_classes\n",
    "    x = Dropout(0.1)(x)\n",
    "    outputs = Dense(units, activation=activation)(x)\n",
    "    return keras.Model(inputs, outputs)\n",
    "  \n",
    "model = make_model(input_shape=(10,120,120,3),num_classes=5)"
   ]
  },
  {
   "cell_type": "markdown",
   "metadata": {},
   "source": [
    "Now that you have written the model, the next step is to `compile` the model. When you print the `summary` of the model, you'll see the total number of parameters you have to train."
   ]
  },
  {
   "cell_type": "code",
   "execution_count": 77,
   "metadata": {
    "scrolled": true
   },
   "outputs": [
    {
     "name": "stdout",
     "output_type": "stream",
     "text": [
      "_________________________________________________________________\n",
      "Layer (type)                 Output Shape              Param #   \n",
      "=================================================================\n",
      "input_13 (InputLayer)        (None, 10, 120, 120, 3)   0         \n",
      "_________________________________________________________________\n",
      "conv3d_45 (Conv3D)           (None, 10, 120, 120, 32)  2624      \n",
      "_________________________________________________________________\n",
      "activation_45 (Activation)   (None, 10, 120, 120, 32)  0         \n",
      "_________________________________________________________________\n",
      "max_pooling3d_45 (MaxPooling (None, 5, 60, 60, 32)     0         \n",
      "_________________________________________________________________\n",
      "conv3d_46 (Conv3D)           (None, 5, 60, 60, 32)     27680     \n",
      "_________________________________________________________________\n",
      "activation_46 (Activation)   (None, 5, 60, 60, 32)     0         \n",
      "_________________________________________________________________\n",
      "max_pooling3d_46 (MaxPooling (None, 2, 30, 30, 32)     0         \n",
      "_________________________________________________________________\n",
      "conv3d_47 (Conv3D)           (None, 2, 30, 30, 16)     13840     \n",
      "_________________________________________________________________\n",
      "activation_47 (Activation)   (None, 2, 30, 30, 16)     0         \n",
      "_________________________________________________________________\n",
      "max_pooling3d_47 (MaxPooling (None, 2, 15, 15, 16)     0         \n",
      "_________________________________________________________________\n",
      "conv3d_48 (Conv3D)           (None, 2, 15, 15, 16)     6928      \n",
      "_________________________________________________________________\n",
      "activation_48 (Activation)   (None, 2, 15, 15, 16)     0         \n",
      "_________________________________________________________________\n",
      "max_pooling3d_48 (MaxPooling (None, 2, 7, 7, 16)       0         \n",
      "_________________________________________________________________\n",
      "flatten_11 (Flatten)         (None, 1568)              0         \n",
      "_________________________________________________________________\n",
      "dropout_21 (Dropout)         (None, 1568)              0         \n",
      "_________________________________________________________________\n",
      "dense_21 (Dense)             (None, 100)               156900    \n",
      "_________________________________________________________________\n",
      "dropout_22 (Dropout)         (None, 100)               0         \n",
      "_________________________________________________________________\n",
      "dense_22 (Dense)             (None, 5)                 505       \n",
      "=================================================================\n",
      "Total params: 208,477\n",
      "Trainable params: 208,477\n",
      "Non-trainable params: 0\n",
      "_________________________________________________________________\n",
      "None\n"
     ]
    }
   ],
   "source": [
    "optimiser = keras.optimizers.Adam(.001)\n",
    "model.compile(optimizer=optimiser, loss='categorical_crossentropy', metrics=['categorical_accuracy'])\n",
    "print (model.summary())"
   ]
  },
  {
   "cell_type": "markdown",
   "metadata": {},
   "source": [
    "Let us create the `train_generator` and the `val_generator` which will be used in `.fit_generator`."
   ]
  },
  {
   "cell_type": "code",
   "execution_count": 78,
   "metadata": {},
   "outputs": [],
   "source": [
    "train_generator = generator(train_path, train_doc, batch_size,skip=3)\n",
    "val_generator = generator(val_path, val_doc, batch_size, skip=3)"
   ]
  },
  {
   "cell_type": "code",
   "execution_count": 79,
   "metadata": {},
   "outputs": [],
   "source": [
    "model_name = 'model_init' + '_' + str(curr_dt_time).replace(' ','').replace(':','_') + '/'\n",
    "    \n",
    "if not os.path.exists(model_name):\n",
    "    os.mkdir(model_name)\n",
    "        \n",
    "filepath = model_name + 'model-{epoch:05d}-{loss:.5f}-{categorical_accuracy:.5f}-{val_loss:.5f}-{val_categorical_accuracy:.5f}.h5'\n",
    "\n",
    "checkpoint = ModelCheckpoint(filepath, monitor='val_loss', verbose=1, save_best_only=False, save_weights_only=False, mode='auto', period=1)\n",
    "\n",
    "LR = ReduceLROnPlateau(monitor='val_loss', factor=0.2,\n",
    "                              patience=5, min_lr=0.0001)\n",
    "callbacks_list = [checkpoint, LR]"
   ]
  },
  {
   "cell_type": "markdown",
   "metadata": {},
   "source": [
    "The `steps_per_epoch` and `validation_steps` are used by `fit_generator` to decide the number of next() calls it need to make."
   ]
  },
  {
   "cell_type": "code",
   "execution_count": 80,
   "metadata": {},
   "outputs": [],
   "source": [
    "if (num_train_sequences%batch_size) == 0:\n",
    "    steps_per_epoch = int(num_train_sequences/batch_size)\n",
    "else:\n",
    "    steps_per_epoch = (num_train_sequences//batch_size) + 1\n",
    "\n",
    "if (num_val_sequences%batch_size) == 0:\n",
    "    validation_steps = int(num_val_sequences/batch_size)\n",
    "else:\n",
    "    validation_steps = (num_val_sequences//batch_size) + 1"
   ]
  },
  {
   "cell_type": "markdown",
   "metadata": {},
   "source": [
    "Let us now fit the model. This will start training the model and with the help of the checkpoints, you'll be able to save the model at the end of each epoch."
   ]
  },
  {
   "cell_type": "code",
   "execution_count": 81,
   "metadata": {},
   "outputs": [
    {
     "name": "stdout",
     "output_type": "stream",
     "text": [
      "Source path =  Project_data/train ; batch size = 46\n",
      "Epoch 1/50\n",
      "14/15 [===========================>..] - ETA: 1s - loss: 1.6141 - categorical_accuracy: 0.2065Source path =  Project_data/val ; batch size = 46\n",
      "15/15 [==============================] - 35s 2s/step - loss: 1.6157 - categorical_accuracy: 0.2004 - val_loss: 1.6063 - val_categorical_accuracy: 0.2525\n",
      "\n",
      "Epoch 00001: saving model to model_init_2021-02-0115_23_19.107624/model-00001-1.61477-0.20393-1.60634-0.25253.h5\n",
      "Epoch 2/50\n",
      "15/15 [==============================] - 25s 2s/step - loss: 1.6031 - categorical_accuracy: 0.2069 - val_loss: 1.5903 - val_categorical_accuracy: 0.2323\n",
      "\n",
      "Epoch 00002: saving model to model_init_2021-02-0115_23_19.107624/model-00002-1.60339-0.20846-1.59028-0.23232.h5\n",
      "Epoch 3/50\n",
      "15/15 [==============================] - 25s 2s/step - loss: 1.5762 - categorical_accuracy: 0.2192 - val_loss: 1.5203 - val_categorical_accuracy: 0.2222\n",
      "\n",
      "Epoch 00003: saving model to model_init_2021-02-0115_23_19.107624/model-00003-1.58021-0.21903-1.52031-0.22222.h5\n",
      "Epoch 4/50\n",
      "15/15 [==============================] - 28s 2s/step - loss: 1.5429 - categorical_accuracy: 0.2527 - val_loss: 1.4694 - val_categorical_accuracy: 0.3838\n",
      "\n",
      "Epoch 00004: saving model to model_init_2021-02-0115_23_19.107624/model-00004-1.53981-0.25831-1.46944-0.38384.h5\n",
      "Epoch 5/50\n",
      "15/15 [==============================] - 27s 2s/step - loss: 1.4708 - categorical_accuracy: 0.3250 - val_loss: 1.3801 - val_categorical_accuracy: 0.4242\n",
      "\n",
      "Epoch 00005: saving model to model_init_2021-02-0115_23_19.107624/model-00005-1.47029-0.32024-1.38010-0.42424.h5\n",
      "Epoch 6/50\n",
      "15/15 [==============================] - 25s 2s/step - loss: 1.4105 - categorical_accuracy: 0.3720 - val_loss: 1.3694 - val_categorical_accuracy: 0.3535\n",
      "\n",
      "Epoch 00006: saving model to model_init_2021-02-0115_23_19.107624/model-00006-1.41255-0.36254-1.36938-0.35354.h5\n",
      "Epoch 7/50\n",
      "15/15 [==============================] - 28s 2s/step - loss: 1.3169 - categorical_accuracy: 0.3919 - val_loss: 1.1462 - val_categorical_accuracy: 0.4646\n",
      "\n",
      "Epoch 00007: saving model to model_init_2021-02-0115_23_19.107624/model-00007-1.32404-0.39426-1.14623-0.46465.h5\n",
      "Epoch 8/50\n",
      "15/15 [==============================] - 27s 2s/step - loss: 1.2281 - categorical_accuracy: 0.4247 - val_loss: 1.1848 - val_categorical_accuracy: 0.4141\n",
      "\n",
      "Epoch 00008: saving model to model_init_2021-02-0115_23_19.107624/model-00008-1.22763-0.43051-1.18479-0.41414.h5\n",
      "Epoch 9/50\n",
      "15/15 [==============================] - 25s 2s/step - loss: 1.2044 - categorical_accuracy: 0.4513 - val_loss: 1.0950 - val_categorical_accuracy: 0.5859\n",
      "\n",
      "Epoch 00009: saving model to model_init_2021-02-0115_23_19.107624/model-00009-1.21305-0.44713-1.09503-0.58586.h5\n",
      "Epoch 10/50\n",
      "15/15 [==============================] - 29s 2s/step - loss: 1.1606 - categorical_accuracy: 0.4835 - val_loss: 1.0871 - val_categorical_accuracy: 0.5354\n",
      "\n",
      "Epoch 00010: saving model to model_init_2021-02-0115_23_19.107624/model-00010-1.15400-0.48943-1.08713-0.53535.h5\n",
      "Epoch 11/50\n",
      "15/15 [==============================] - 27s 2s/step - loss: 1.0822 - categorical_accuracy: 0.5059 - val_loss: 0.9799 - val_categorical_accuracy: 0.6263\n",
      "\n",
      "Epoch 00011: saving model to model_init_2021-02-0115_23_19.107624/model-00011-1.07832-0.51057-0.97990-0.62626.h5\n",
      "Epoch 12/50\n",
      "15/15 [==============================] - 25s 2s/step - loss: 1.0666 - categorical_accuracy: 0.5349 - val_loss: 1.0205 - val_categorical_accuracy: 0.5556\n",
      "\n",
      "Epoch 00012: saving model to model_init_2021-02-0115_23_19.107624/model-00012-1.07086-0.53625-1.02046-0.55556.h5\n",
      "Epoch 13/50\n",
      "15/15 [==============================] - 28s 2s/step - loss: 0.9934 - categorical_accuracy: 0.5594 - val_loss: 0.9425 - val_categorical_accuracy: 0.6364\n",
      "\n",
      "Epoch 00013: saving model to model_init_2021-02-0115_23_19.107624/model-00013-0.99641-0.55740-0.94253-0.63636.h5\n",
      "Epoch 14/50\n",
      "15/15 [==============================] - 26s 2s/step - loss: 0.9338 - categorical_accuracy: 0.5884 - val_loss: 0.9031 - val_categorical_accuracy: 0.6566\n",
      "\n",
      "Epoch 00014: saving model to model_init_2021-02-0115_23_19.107624/model-00014-0.93235-0.58308-0.90307-0.65657.h5\n",
      "Epoch 15/50\n",
      "15/15 [==============================] - 25s 2s/step - loss: 0.8960 - categorical_accuracy: 0.5958 - val_loss: 0.8528 - val_categorical_accuracy: 0.6566\n",
      "\n",
      "Epoch 00015: saving model to model_init_2021-02-0115_23_19.107624/model-00015-0.89897-0.59517-0.85277-0.65657.h5\n",
      "Epoch 16/50\n",
      "15/15 [==============================] - 27s 2s/step - loss: 0.9270 - categorical_accuracy: 0.5945 - val_loss: 0.8870 - val_categorical_accuracy: 0.7071\n",
      "\n",
      "Epoch 00016: saving model to model_init_2021-02-0115_23_19.107624/model-00016-0.91992-0.59819-0.88697-0.70707.h5\n",
      "Epoch 17/50\n",
      "15/15 [==============================] - 27s 2s/step - loss: 0.8708 - categorical_accuracy: 0.6378 - val_loss: 0.9402 - val_categorical_accuracy: 0.6364\n",
      "\n",
      "Epoch 00017: saving model to model_init_2021-02-0115_23_19.107624/model-00017-0.87648-0.63444-0.94022-0.63636.h5\n",
      "Epoch 18/50\n",
      "15/15 [==============================] - 24s 2s/step - loss: 0.8209 - categorical_accuracy: 0.6480 - val_loss: 0.7572 - val_categorical_accuracy: 0.7071\n",
      "\n",
      "Epoch 00018: saving model to model_init_2021-02-0115_23_19.107624/model-00018-0.82181-0.64502-0.75723-0.70707.h5\n",
      "Epoch 19/50\n",
      "15/15 [==============================] - 28s 2s/step - loss: 0.7875 - categorical_accuracy: 0.6486 - val_loss: 0.7659 - val_categorical_accuracy: 0.7273\n",
      "\n",
      "Epoch 00019: saving model to model_init_2021-02-0115_23_19.107624/model-00019-0.79651-0.64350-0.76586-0.72727.h5\n",
      "Epoch 20/50\n",
      "15/15 [==============================] - 26s 2s/step - loss: 0.7629 - categorical_accuracy: 0.6841 - val_loss: 0.7794 - val_categorical_accuracy: 0.6364\n",
      "\n",
      "Epoch 00020: saving model to model_init_2021-02-0115_23_19.107624/model-00020-0.77257-0.67825-0.77941-0.63636.h5\n",
      "Epoch 21/50\n",
      "15/15 [==============================] - 24s 2s/step - loss: 0.7474 - categorical_accuracy: 0.6676 - val_loss: 0.7713 - val_categorical_accuracy: 0.7172\n",
      "\n",
      "Epoch 00021: saving model to model_init_2021-02-0115_23_19.107624/model-00021-0.75149-0.66767-0.77128-0.71717.h5\n",
      "Epoch 22/50\n",
      "15/15 [==============================] - 28s 2s/step - loss: 0.7353 - categorical_accuracy: 0.6880 - val_loss: 0.7665 - val_categorical_accuracy: 0.6667\n",
      "\n",
      "Epoch 00022: saving model to model_init_2021-02-0115_23_19.107624/model-00022-0.73316-0.68882-0.76650-0.66667.h5\n",
      "Epoch 23/50\n",
      "15/15 [==============================] - 26s 2s/step - loss: 0.6987 - categorical_accuracy: 0.7170 - val_loss: 0.7227 - val_categorical_accuracy: 0.6970\n",
      "\n",
      "Epoch 00023: saving model to model_init_2021-02-0115_23_19.107624/model-00023-0.70133-0.71903-0.72268-0.69697.h5\n",
      "Epoch 24/50\n",
      "15/15 [==============================] - 25s 2s/step - loss: 0.6383 - categorical_accuracy: 0.7330 - val_loss: 0.7528 - val_categorical_accuracy: 0.7273\n",
      "\n",
      "Epoch 00024: saving model to model_init_2021-02-0115_23_19.107624/model-00024-0.63191-0.73565-0.75282-0.72727.h5\n",
      "Epoch 25/50\n",
      "15/15 [==============================] - 28s 2s/step - loss: 0.7019 - categorical_accuracy: 0.7185 - val_loss: 0.7312 - val_categorical_accuracy: 0.7475\n",
      "\n",
      "Epoch 00025: saving model to model_init_2021-02-0115_23_19.107624/model-00025-0.69465-0.72054-0.73123-0.74747.h5\n",
      "Epoch 26/50\n",
      "15/15 [==============================] - 27s 2s/step - loss: 0.6441 - categorical_accuracy: 0.7590 - val_loss: 0.9714 - val_categorical_accuracy: 0.6667\n",
      "\n",
      "Epoch 00026: saving model to model_init_2021-02-0115_23_19.107624/model-00026-0.64385-0.75831-0.97137-0.66667.h5\n",
      "Epoch 27/50\n",
      "15/15 [==============================] - 25s 2s/step - loss: 0.6873 - categorical_accuracy: 0.7009 - val_loss: 0.7634 - val_categorical_accuracy: 0.6768\n",
      "\n",
      "Epoch 00027: saving model to model_init_2021-02-0115_23_19.107624/model-00027-0.69607-0.69789-0.76337-0.67677.h5\n",
      "Epoch 28/50\n",
      "15/15 [==============================] - 28s 2s/step - loss: 0.6427 - categorical_accuracy: 0.7329 - val_loss: 0.7298 - val_categorical_accuracy: 0.7172\n",
      "\n",
      "Epoch 00028: saving model to model_init_2021-02-0115_23_19.107624/model-00028-0.64467-0.73112-0.72981-0.71717.h5\n",
      "Epoch 29/50\n",
      "15/15 [==============================] - 26s 2s/step - loss: 0.5454 - categorical_accuracy: 0.7625 - val_loss: 0.7370 - val_categorical_accuracy: 0.7172\n",
      "\n",
      "Epoch 00029: saving model to model_init_2021-02-0115_23_19.107624/model-00029-0.56108-0.75529-0.73703-0.71717.h5\n",
      "Epoch 30/50\n"
     ]
    },
    {
     "name": "stdout",
     "output_type": "stream",
     "text": [
      "15/15 [==============================] - 24s 2s/step - loss: 0.5117 - categorical_accuracy: 0.7830 - val_loss: 0.7028 - val_categorical_accuracy: 0.7071\n",
      "\n",
      "Epoch 00030: saving model to model_init_2021-02-0115_23_19.107624/model-00030-0.51617-0.78097-0.70275-0.70707.h5\n",
      "Epoch 31/50\n",
      "15/15 [==============================] - 28s 2s/step - loss: 0.5102 - categorical_accuracy: 0.7988 - val_loss: 0.7144 - val_categorical_accuracy: 0.7374\n",
      "\n",
      "Epoch 00031: saving model to model_init_2021-02-0115_23_19.107624/model-00031-0.51882-0.79305-0.71445-0.73737.h5\n",
      "Epoch 32/50\n",
      "15/15 [==============================] - 26s 2s/step - loss: 0.5156 - categorical_accuracy: 0.7975 - val_loss: 0.7603 - val_categorical_accuracy: 0.6970\n",
      "\n",
      "Epoch 00032: saving model to model_init_2021-02-0115_23_19.107624/model-00032-0.51810-0.79607-0.76032-0.69697.h5\n",
      "Epoch 33/50\n",
      "15/15 [==============================] - 24s 2s/step - loss: 0.4690 - categorical_accuracy: 0.8156 - val_loss: 0.6858 - val_categorical_accuracy: 0.7475\n",
      "\n",
      "Epoch 00033: saving model to model_init_2021-02-0115_23_19.107624/model-00033-0.47125-0.81269-0.68583-0.74747.h5\n",
      "Epoch 34/50\n",
      "15/15 [==============================] - 27s 2s/step - loss: 0.4808 - categorical_accuracy: 0.7910 - val_loss: 0.6735 - val_categorical_accuracy: 0.7475\n",
      "\n",
      "Epoch 00034: saving model to model_init_2021-02-0115_23_19.107624/model-00034-0.48114-0.79154-0.67355-0.74747.h5\n",
      "Epoch 35/50\n",
      "15/15 [==============================] - 26s 2s/step - loss: 0.4976 - categorical_accuracy: 0.8025 - val_loss: 0.6458 - val_categorical_accuracy: 0.7576\n",
      "\n",
      "Epoch 00035: saving model to model_init_2021-02-0115_23_19.107624/model-00035-0.49980-0.79909-0.64576-0.75758.h5\n",
      "Epoch 36/50\n",
      "15/15 [==============================] - 24s 2s/step - loss: 0.5265 - categorical_accuracy: 0.7802 - val_loss: 0.6526 - val_categorical_accuracy: 0.7576\n",
      "\n",
      "Epoch 00036: saving model to model_init_2021-02-0115_23_19.107624/model-00036-0.52474-0.78248-0.65259-0.75758.h5\n",
      "Epoch 37/50\n",
      "15/15 [==============================] - 28s 2s/step - loss: 0.4477 - categorical_accuracy: 0.8214 - val_loss: 0.6665 - val_categorical_accuracy: 0.7475\n",
      "\n",
      "Epoch 00037: saving model to model_init_2021-02-0115_23_19.107624/model-00037-0.45206-0.81873-0.66649-0.74747.h5\n",
      "Epoch 38/50\n",
      "15/15 [==============================] - 25s 2s/step - loss: 0.4093 - categorical_accuracy: 0.8403 - val_loss: 0.6022 - val_categorical_accuracy: 0.7980\n",
      "\n",
      "Epoch 00038: saving model to model_init_2021-02-0115_23_19.107624/model-00038-0.41063-0.83837-0.60220-0.79798.h5\n",
      "Epoch 39/50\n",
      "15/15 [==============================] - 24s 2s/step - loss: 0.4257 - categorical_accuracy: 0.8325 - val_loss: 0.6329 - val_categorical_accuracy: 0.7677\n",
      "\n",
      "Epoch 00039: saving model to model_init_2021-02-0115_23_19.107624/model-00039-0.42218-0.83686-0.63288-0.76768.h5\n",
      "Epoch 40/50\n",
      "15/15 [==============================] - 27s 2s/step - loss: 0.4199 - categorical_accuracy: 0.8483 - val_loss: 0.6818 - val_categorical_accuracy: 0.7778\n",
      "\n",
      "Epoch 00040: saving model to model_init_2021-02-0115_23_19.107624/model-00040-0.40348-0.84894-0.68178-0.77778.h5\n",
      "Epoch 41/50\n",
      "15/15 [==============================] - 26s 2s/step - loss: 0.4205 - categorical_accuracy: 0.8382 - val_loss: 0.6126 - val_categorical_accuracy: 0.8081\n",
      "\n",
      "Epoch 00041: saving model to model_init_2021-02-0115_23_19.107624/model-00041-0.41705-0.83837-0.61262-0.80808.h5\n",
      "Epoch 42/50\n",
      "15/15 [==============================] - 24s 2s/step - loss: 0.4281 - categorical_accuracy: 0.8289 - val_loss: 0.5960 - val_categorical_accuracy: 0.7677\n",
      "\n",
      "Epoch 00042: saving model to model_init_2021-02-0115_23_19.107624/model-00042-0.42673-0.83535-0.59605-0.76768.h5\n",
      "Epoch 43/50\n",
      "15/15 [==============================] - 27s 2s/step - loss: 0.4615 - categorical_accuracy: 0.8229 - val_loss: 0.6589 - val_categorical_accuracy: 0.7778\n",
      "\n",
      "Epoch 00043: saving model to model_init_2021-02-0115_23_19.107624/model-00043-0.46599-0.82024-0.65891-0.77778.h5\n",
      "Epoch 44/50\n",
      "15/15 [==============================] - 25s 2s/step - loss: 0.4205 - categorical_accuracy: 0.8120 - val_loss: 0.7926 - val_categorical_accuracy: 0.7475\n",
      "\n",
      "Epoch 00044: saving model to model_init_2021-02-0115_23_19.107624/model-00044-0.42483-0.81118-0.79260-0.74747.h5\n",
      "Epoch 45/50\n",
      "15/15 [==============================] - 24s 2s/step - loss: 0.4098 - categorical_accuracy: 0.8505 - val_loss: 0.5894 - val_categorical_accuracy: 0.7879\n",
      "\n",
      "Epoch 00045: saving model to model_init_2021-02-0115_23_19.107624/model-00045-0.40857-0.84894-0.58942-0.78788.h5\n",
      "Epoch 46/50\n",
      "15/15 [==============================] - 27s 2s/step - loss: 0.3976 - categorical_accuracy: 0.8376 - val_loss: 0.6471 - val_categorical_accuracy: 0.7677\n",
      "\n",
      "Epoch 00046: saving model to model_init_2021-02-0115_23_19.107624/model-00046-0.39005-0.84441-0.64714-0.76768.h5\n",
      "Epoch 47/50\n",
      "15/15 [==============================] - 26s 2s/step - loss: 0.4127 - categorical_accuracy: 0.8396 - val_loss: 0.7783 - val_categorical_accuracy: 0.7475\n",
      "\n",
      "Epoch 00047: saving model to model_init_2021-02-0115_23_19.107624/model-00047-0.41325-0.83988-0.77828-0.74747.h5\n",
      "Epoch 48/50\n",
      "15/15 [==============================] - 24s 2s/step - loss: 0.4621 - categorical_accuracy: 0.8100 - val_loss: 0.6104 - val_categorical_accuracy: 0.7879\n",
      "\n",
      "Epoch 00048: saving model to model_init_2021-02-0115_23_19.107624/model-00048-0.44594-0.81571-0.61040-0.78788.h5\n",
      "Epoch 49/50\n",
      "15/15 [==============================] - 27s 2s/step - loss: 0.4061 - categorical_accuracy: 0.8505 - val_loss: 0.6455 - val_categorical_accuracy: 0.7576\n",
      "\n",
      "Epoch 00049: saving model to model_init_2021-02-0115_23_19.107624/model-00049-0.40831-0.84894-0.64554-0.75758.h5\n",
      "Epoch 50/50\n",
      "15/15 [==============================] - 26s 2s/step - loss: 0.3821 - categorical_accuracy: 0.8483 - val_loss: 0.6107 - val_categorical_accuracy: 0.8182\n",
      "\n",
      "Epoch 00050: saving model to model_init_2021-02-0115_23_19.107624/model-00050-0.37868-0.84894-0.61069-0.81818.h5\n"
     ]
    },
    {
     "data": {
      "text/plain": [
       "<keras.callbacks.History at 0x7f52809c6eb8>"
      ]
     },
     "execution_count": 81,
     "metadata": {},
     "output_type": "execute_result"
    }
   ],
   "source": [
    "model.fit_generator(train_generator, steps_per_epoch=steps_per_epoch, epochs=num_epochs, verbose=1, \n",
    "                    callbacks=callbacks_list, validation_data=val_generator, \n",
    "                    validation_steps=validation_steps, class_weight=None, workers=1, initial_epoch=0)"
   ]
  },
  {
   "cell_type": "code",
   "execution_count": null,
   "metadata": {},
   "outputs": [],
   "source": []
  },
  {
   "cell_type": "code",
   "execution_count": null,
   "metadata": {},
   "outputs": [],
   "source": []
  }
 ],
 "metadata": {
  "kernelspec": {
   "display_name": "Python 3",
   "language": "python",
   "name": "python3"
  },
  "language_info": {
   "codemirror_mode": {
    "name": "ipython",
    "version": 3
   },
   "file_extension": ".py",
   "mimetype": "text/x-python",
   "name": "python",
   "nbconvert_exporter": "python",
   "pygments_lexer": "ipython3",
   "version": "3.7.9"
  }
 },
 "nbformat": 4,
 "nbformat_minor": 2
}
