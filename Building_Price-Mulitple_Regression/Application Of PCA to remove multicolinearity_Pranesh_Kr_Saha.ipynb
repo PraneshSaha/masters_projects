{
 "cells": [
  {
   "cell_type": "markdown",
   "metadata": {},
   "source": [
    "# Principal Component Analysis\n",
    "* The main idea of principal component analysis is derived from transformation of axis. \n",
    "* Suppose two variables have the scatter plot as shown below. Then the first principal component axis is denoted by pc1 and second one pc2. As we can see they are simple rotation of the original axeses\n",
    "* The process of deciding the principal axes are as follows:\n",
    "  1. The first direction of PCA is the direction of highest variability (i.e. highest spread).\n",
    "  2. Keeping this direction fixed, we search in directions orthogonal to the first direction and select the one having highest spread.\n",
    "  3. This step is repeated and we obtain n principal component axis for n-variables.\n",
    "* Mathematically the n principal axes are in the direction of n eigen vectors of the covariance matrix of the n-features.\n",
    "* So, we obtain n-independent directions.\n",
    "* The eigen-values corresponding to the eigen-vectors are the variability in that direction. Sum total of the eigen-vaues represent the total variability in the data.\n",
    "* After finding the eigen-vectors and eigen-values we sort them by eigen-values in desecending order and plot a scree-plot.\n",
    "* Then we select the top m components displaying the most of the variability\n",
    "\n",
    "![alt text](pca.png \"Title\")"
   ]
  },
  {
   "cell_type": "code",
   "execution_count": 403,
   "metadata": {},
   "outputs": [],
   "source": [
    "import pandas as pd\n",
    "import numpy as np\n",
    "import matplotlib.pyplot as plt\n",
    "import seaborn as sb\n",
    "import statsmodels.api as sm\n",
    "from sklearn.decomposition import PCA\n",
    "from statsmodels.stats.outliers_influence import variance_inflation_factor as VIF"
   ]
  },
  {
   "cell_type": "code",
   "execution_count": 404,
   "metadata": {},
   "outputs": [],
   "source": [
    "pd.set_option('display.max_rows',1000)\n",
    "pd.set_option('display.max_columns',1000)"
   ]
  },
  {
   "cell_type": "code",
   "execution_count": 405,
   "metadata": {},
   "outputs": [],
   "source": [
    "car = pd.read_csv('CarPrice_Assignment.csv')"
   ]
  },
  {
   "cell_type": "code",
   "execution_count": 406,
   "metadata": {},
   "outputs": [],
   "source": [
    "car = car.select_dtypes(include=np.number)"
   ]
  },
  {
   "cell_type": "code",
   "execution_count": 407,
   "metadata": {},
   "outputs": [],
   "source": [
    "car.drop('car_ID',axis=1,inplace=True)"
   ]
  },
  {
   "cell_type": "code",
   "execution_count": 408,
   "metadata": {},
   "outputs": [],
   "source": [
    "car = car[['curbweight','enginesize','carlength','carwidth','carheight','price']]"
   ]
  },
  {
   "cell_type": "code",
   "execution_count": 409,
   "metadata": {},
   "outputs": [
    {
     "data": {
      "text/html": [
       "<div>\n",
       "<style scoped>\n",
       "    .dataframe tbody tr th:only-of-type {\n",
       "        vertical-align: middle;\n",
       "    }\n",
       "\n",
       "    .dataframe tbody tr th {\n",
       "        vertical-align: top;\n",
       "    }\n",
       "\n",
       "    .dataframe thead th {\n",
       "        text-align: right;\n",
       "    }\n",
       "</style>\n",
       "<table border=\"1\" class=\"dataframe\">\n",
       "  <thead>\n",
       "    <tr style=\"text-align: right;\">\n",
       "      <th></th>\n",
       "      <th>curbweight</th>\n",
       "      <th>enginesize</th>\n",
       "      <th>carlength</th>\n",
       "      <th>carwidth</th>\n",
       "      <th>carheight</th>\n",
       "      <th>price</th>\n",
       "    </tr>\n",
       "  </thead>\n",
       "  <tbody>\n",
       "    <tr>\n",
       "      <th>curbweight</th>\n",
       "      <td>1.000000</td>\n",
       "      <td>0.850594</td>\n",
       "      <td>0.877728</td>\n",
       "      <td>0.867032</td>\n",
       "      <td>0.295572</td>\n",
       "      <td>0.835305</td>\n",
       "    </tr>\n",
       "    <tr>\n",
       "      <th>enginesize</th>\n",
       "      <td>0.850594</td>\n",
       "      <td>1.000000</td>\n",
       "      <td>0.683360</td>\n",
       "      <td>0.735433</td>\n",
       "      <td>0.067149</td>\n",
       "      <td>0.874145</td>\n",
       "    </tr>\n",
       "    <tr>\n",
       "      <th>carlength</th>\n",
       "      <td>0.877728</td>\n",
       "      <td>0.683360</td>\n",
       "      <td>1.000000</td>\n",
       "      <td>0.841118</td>\n",
       "      <td>0.491029</td>\n",
       "      <td>0.682920</td>\n",
       "    </tr>\n",
       "    <tr>\n",
       "      <th>carwidth</th>\n",
       "      <td>0.867032</td>\n",
       "      <td>0.735433</td>\n",
       "      <td>0.841118</td>\n",
       "      <td>1.000000</td>\n",
       "      <td>0.279210</td>\n",
       "      <td>0.759325</td>\n",
       "    </tr>\n",
       "    <tr>\n",
       "      <th>carheight</th>\n",
       "      <td>0.295572</td>\n",
       "      <td>0.067149</td>\n",
       "      <td>0.491029</td>\n",
       "      <td>0.279210</td>\n",
       "      <td>1.000000</td>\n",
       "      <td>0.119336</td>\n",
       "    </tr>\n",
       "    <tr>\n",
       "      <th>price</th>\n",
       "      <td>0.835305</td>\n",
       "      <td>0.874145</td>\n",
       "      <td>0.682920</td>\n",
       "      <td>0.759325</td>\n",
       "      <td>0.119336</td>\n",
       "      <td>1.000000</td>\n",
       "    </tr>\n",
       "  </tbody>\n",
       "</table>\n",
       "</div>"
      ],
      "text/plain": [
       "            curbweight  enginesize  carlength  carwidth  carheight     price\n",
       "curbweight    1.000000    0.850594   0.877728  0.867032   0.295572  0.835305\n",
       "enginesize    0.850594    1.000000   0.683360  0.735433   0.067149  0.874145\n",
       "carlength     0.877728    0.683360   1.000000  0.841118   0.491029  0.682920\n",
       "carwidth      0.867032    0.735433   0.841118  1.000000   0.279210  0.759325\n",
       "carheight     0.295572    0.067149   0.491029  0.279210   1.000000  0.119336\n",
       "price         0.835305    0.874145   0.682920  0.759325   0.119336  1.000000"
      ]
     },
     "execution_count": 409,
     "metadata": {},
     "output_type": "execute_result"
    }
   ],
   "source": [
    "car.corr()"
   ]
  },
  {
   "cell_type": "code",
   "execution_count": 410,
   "metadata": {},
   "outputs": [
    {
     "data": {
      "text/plain": [
       "<matplotlib.axes._subplots.AxesSubplot at 0x25fed8e1fd0>"
      ]
     },
     "execution_count": 410,
     "metadata": {},
     "output_type": "execute_result"
    },
    {
     "data": {
      "image/png": "[encoded data removed]",
      "text/plain": [
       "<Figure size 720x720 with 2 Axes>"
      ]
     },
     "metadata": {
      "needs_background": "light"
     },
     "output_type": "display_data"
    }
   ],
   "source": [
    "plt.figure(figsize=(10,10))\n",
    "sb.heatmap(car.corr(),annot=True)"
   ]
  },
  {
   "cell_type": "code",
   "execution_count": 411,
   "metadata": {},
   "outputs": [
    {
     "data": {
      "text/html": [
       "<table class=\"simpletable\">\n",
       "<caption>OLS Regression Results</caption>\n",
       "<tr>\n",
       "  <th>Dep. Variable:</th>          <td>price</td>      <th>  R-squared:         </th> <td>   0.803</td>\n",
       "</tr>\n",
       "<tr>\n",
       "  <th>Model:</th>                   <td>OLS</td>       <th>  Adj. R-squared:    </th> <td>   0.798</td>\n",
       "</tr>\n",
       "<tr>\n",
       "  <th>Method:</th>             <td>Least Squares</td>  <th>  F-statistic:       </th> <td>   162.3</td>\n",
       "</tr>\n",
       "<tr>\n",
       "  <th>Date:</th>             <td>Sun, 19 Jul 2020</td> <th>  Prob (F-statistic):</th> <td>3.36e-68</td>\n",
       "</tr>\n",
       "<tr>\n",
       "  <th>Time:</th>                 <td>13:49:26</td>     <th>  Log-Likelihood:    </th> <td> -1965.9</td>\n",
       "</tr>\n",
       "<tr>\n",
       "  <th>No. Observations:</th>      <td>   205</td>      <th>  AIC:               </th> <td>   3944.</td>\n",
       "</tr>\n",
       "<tr>\n",
       "  <th>Df Residuals:</th>          <td>   199</td>      <th>  BIC:               </th> <td>   3964.</td>\n",
       "</tr>\n",
       "<tr>\n",
       "  <th>Df Model:</th>              <td>     5</td>      <th>                     </th>     <td> </td>   \n",
       "</tr>\n",
       "<tr>\n",
       "  <th>Covariance Type:</th>      <td>nonrobust</td>    <th>                     </th>     <td> </td>   \n",
       "</tr>\n",
       "</table>\n",
       "<table class=\"simpletable\">\n",
       "<tr>\n",
       "       <td></td>         <th>coef</th>     <th>std err</th>      <th>t</th>      <th>P>|t|</th>  <th>[0.025</th>    <th>0.975]</th>  \n",
       "</tr>\n",
       "<tr>\n",
       "  <th>const</th>      <td>-4.439e+04</td> <td> 1.44e+04</td> <td>   -3.075</td> <td> 0.002</td> <td>-7.29e+04</td> <td>-1.59e+04</td>\n",
       "</tr>\n",
       "<tr>\n",
       "  <th>curbweight</th> <td>    4.7000</td> <td>    1.526</td> <td>    3.079</td> <td> 0.002</td> <td>    1.690</td> <td>    7.710</td>\n",
       "</tr>\n",
       "<tr>\n",
       "  <th>enginesize</th> <td>  108.4139</td> <td>   12.390</td> <td>    8.750</td> <td> 0.000</td> <td>   83.981</td> <td>  132.847</td>\n",
       "</tr>\n",
       "<tr>\n",
       "  <th>carlength</th>  <td>  -85.5354</td> <td>   53.076</td> <td>   -1.612</td> <td> 0.109</td> <td> -190.200</td> <td>   19.129</td>\n",
       "</tr>\n",
       "<tr>\n",
       "  <th>carwidth</th>   <td>  701.4683</td> <td>  252.672</td> <td>    2.776</td> <td> 0.006</td> <td>  203.211</td> <td> 1199.726</td>\n",
       "</tr>\n",
       "<tr>\n",
       "  <th>carheight</th>  <td>   10.1939</td> <td>  131.449</td> <td>    0.078</td> <td> 0.938</td> <td> -249.019</td> <td>  269.406</td>\n",
       "</tr>\n",
       "</table>\n",
       "<table class=\"simpletable\">\n",
       "<tr>\n",
       "  <th>Omnibus:</th>       <td>56.421</td> <th>  Durbin-Watson:     </th> <td>   0.694</td>\n",
       "</tr>\n",
       "<tr>\n",
       "  <th>Prob(Omnibus):</th> <td> 0.000</td> <th>  Jarque-Bera (JB):  </th> <td> 162.175</td>\n",
       "</tr>\n",
       "<tr>\n",
       "  <th>Skew:</th>          <td> 1.150</td> <th>  Prob(JB):          </th> <td>6.08e-36</td>\n",
       "</tr>\n",
       "<tr>\n",
       "  <th>Kurtosis:</th>      <td> 6.701</td> <th>  Cond. No.          </th> <td>1.51e+05</td>\n",
       "</tr>\n",
       "</table><br/><br/>Warnings:<br/>[1] Standard Errors assume that the covariance matrix of the errors is correctly specified.<br/>[2] The condition number is large, 1.51e+05. This might indicate that there are<br/>strong multicollinearity or other numerical problems."
      ],
      "text/plain": [
       "<class 'statsmodels.iolib.summary.Summary'>\n",
       "\"\"\"\n",
       "                            OLS Regression Results                            \n",
       "==============================================================================\n",
       "Dep. Variable:                  price   R-squared:                       0.803\n",
       "Model:                            OLS   Adj. R-squared:                  0.798\n",
       "Method:                 Least Squares   F-statistic:                     162.3\n",
       "Date:                Sun, 19 Jul 2020   Prob (F-statistic):           3.36e-68\n",
       "Time:                        13:49:26   Log-Likelihood:                -1965.9\n",
       "No. Observations:                 205   AIC:                             3944.\n",
       "Df Residuals:                     199   BIC:                             3964.\n",
       "Df Model:                           5                                         \n",
       "Covariance Type:            nonrobust                                         \n",
       "==============================================================================\n",
       "                 coef    std err          t      P>|t|      [0.025      0.975]\n",
       "------------------------------------------------------------------------------\n",
       "const      -4.439e+04   1.44e+04     -3.075      0.002   -7.29e+04   -1.59e+04\n",
       "curbweight     4.7000      1.526      3.079      0.002       1.690       7.710\n",
       "enginesize   108.4139     12.390      8.750      0.000      83.981     132.847\n",
       "carlength    -85.5354     53.076     -1.612      0.109    -190.200      19.129\n",
       "carwidth     701.4683    252.672      2.776      0.006     203.211    1199.726\n",
       "carheight     10.1939    131.449      0.078      0.938    -249.019     269.406\n",
       "==============================================================================\n",
       "Omnibus:                       56.421   Durbin-Watson:                   0.694\n",
       "Prob(Omnibus):                  0.000   Jarque-Bera (JB):              162.175\n",
       "Skew:                           1.150   Prob(JB):                     6.08e-36\n",
       "Kurtosis:                       6.701   Cond. No.                     1.51e+05\n",
       "==============================================================================\n",
       "\n",
       "Warnings:\n",
       "[1] Standard Errors assume that the covariance matrix of the errors is correctly specified.\n",
       "[2] The condition number is large, 1.51e+05. This might indicate that there are\n",
       "strong multicollinearity or other numerical problems.\n",
       "\"\"\""
      ]
     },
     "execution_count": 411,
     "metadata": {},
     "output_type": "execute_result"
    }
   ],
   "source": [
    "y = car['price']\n",
    "X = car.drop('price',axis=1)\n",
    "X_sm = sm.add_constant(X)\n",
    "lr = sm.OLS(y,X_sm)\n",
    "lm = lr.fit()\n",
    "lm.summary()"
   ]
  },
  {
   "cell_type": "code",
   "execution_count": 412,
   "metadata": {},
   "outputs": [],
   "source": [
    "def get_vif(x_train_sm):\n",
    "    vif = pd.DataFrame()\n",
    "    x_train_sm = x_train_sm.drop('const',axis=1)\n",
    "    vif['features'] = x_train_sm.columns\n",
    "    vif['VIF'] = [VIF(x_train_sm.values,i) for i in range(x_train_sm.shape[1])]\n",
    "    vif['VIF'] = round(vif['VIF'],2)\n",
    "    print(vif.sort_values('VIF',ascending=False))"
   ]
  },
  {
   "cell_type": "code",
   "execution_count": 413,
   "metadata": {},
   "outputs": [
    {
     "name": "stdout",
     "output_type": "stream",
     "text": [
      "     features      VIF\n",
      "2   carlength  1339.32\n",
      "3    carwidth   884.77\n",
      "4   carheight   688.32\n",
      "0  curbweight   190.50\n",
      "1  enginesize    43.24\n"
     ]
    }
   ],
   "source": [
    "get_vif(X_sm)"
   ]
  },
  {
   "cell_type": "code",
   "execution_count": 414,
   "metadata": {},
   "outputs": [],
   "source": [
    "y = car['price']\n",
    "car_X = car.drop('price',axis=1)\n",
    "#removing mean to centre the data\n",
    "car_X = (car_X - np.mean(car_X))"
   ]
  },
  {
   "cell_type": "code",
   "execution_count": 415,
   "metadata": {},
   "outputs": [],
   "source": [
    "car_array = car_X.values.T"
   ]
  },
  {
   "cell_type": "code",
   "execution_count": 416,
   "metadata": {},
   "outputs": [],
   "source": [
    "covar_car = np.dot(car_array,car_array.T)/car_array.shape[1]"
   ]
  },
  {
   "cell_type": "code",
   "execution_count": 417,
   "metadata": {},
   "outputs": [],
   "source": [
    "covar_car = np.cov(car_array,bias=True)"
   ]
  },
  {
   "cell_type": "code",
   "execution_count": 418,
   "metadata": {},
   "outputs": [],
   "source": [
    "w,v = np.linalg.eig(covar_car)"
   ]
  },
  {
   "cell_type": "code",
   "execution_count": 419,
   "metadata": {},
   "outputs": [
    {
     "data": {
      "text/plain": [
       "array([2.71156700e+05, 4.78146814e+02, 3.36109341e+01, 9.71750319e-01,\n",
       "       3.60960635e+00])"
      ]
     },
     "execution_count": 419,
     "metadata": {},
     "output_type": "execute_result"
    }
   ],
   "source": [
    "w"
   ]
  },
  {
   "cell_type": "code",
   "execution_count": 420,
   "metadata": {},
   "outputs": [
    {
     "data": {
      "text/plain": [
       "(5, 205)"
      ]
     },
     "execution_count": 420,
     "metadata": {},
     "output_type": "execute_result"
    }
   ],
   "source": [
    "car_array.shape"
   ]
  },
  {
   "cell_type": "code",
   "execution_count": 421,
   "metadata": {},
   "outputs": [],
   "source": [
    "transformed = np.dot(v,car_array).T"
   ]
  },
  {
   "cell_type": "code",
   "execution_count": 422,
   "metadata": {},
   "outputs": [
    {
     "data": {
      "text/plain": [
       "(205, 5)"
      ]
     },
     "execution_count": 422,
     "metadata": {},
     "output_type": "execute_result"
    }
   ],
   "source": [
    "transformed.shape"
   ]
  },
  {
   "cell_type": "code",
   "execution_count": 423,
   "metadata": {},
   "outputs": [],
   "source": [
    "car_new = pd.DataFrame(transformed,columns=['e1','e2','e3','e4','e5'])"
   ]
  },
  {
   "cell_type": "code",
   "execution_count": 424,
   "metadata": {},
   "outputs": [
    {
     "data": {
      "text/plain": [
       "<matplotlib.axes._subplots.AxesSubplot at 0x25fedbf4978>"
      ]
     },
     "execution_count": 424,
     "metadata": {},
     "output_type": "execute_result"
    },
    {
     "data": {
      "image/png": "[encoded data removed]",
      "text/plain": [
       "<Figure size 720x720 with 1 Axes>"
      ]
     },
     "metadata": {
      "needs_background": "light"
     },
     "output_type": "display_data"
    }
   ],
   "source": [
    "plt.figure(figsize=(10,10))\n",
    "plt.title('Scree Plot')\n",
    "plt.xlabel('eigenvector')\n",
    "plt.ylabel('variance')\n",
    "x =list(range(1,len(w)+1))\n",
    "sb.lineplot(x=x,y=w)"
   ]
  },
  {
   "cell_type": "code",
   "execution_count": 425,
   "metadata": {},
   "outputs": [],
   "source": [
    "percent_var = np.cumsum(w)/np.sum(w)"
   ]
  },
  {
   "cell_type": "code",
   "execution_count": 426,
   "metadata": {},
   "outputs": [
    {
     "data": {
      "text/plain": [
       "<matplotlib.axes._subplots.AxesSubplot at 0x25fed9d3860>"
      ]
     },
     "execution_count": 426,
     "metadata": {},
     "output_type": "execute_result"
    },
    {
     "data": {
      "image/png": "[encoded data removed]",
      "text/plain": [
       "<Figure size 720x720 with 1 Axes>"
      ]
     },
     "metadata": {
      "needs_background": "light"
     },
     "output_type": "display_data"
    }
   ],
   "source": [
    "plt.figure(figsize=(10,10))\n",
    "plt.xlabel('eigenvector')\n",
    "plt.ylabel('percent of variance')\n",
    "x =list(range(1,len(w)+1))\n",
    "sb.lineplot(x=x,y=percent_var)"
   ]
  },
  {
   "cell_type": "code",
   "execution_count": 427,
   "metadata": {},
   "outputs": [],
   "source": [
    "X = car_new[['e1','e2']]"
   ]
  },
  {
   "cell_type": "code",
   "execution_count": 428,
   "metadata": {},
   "outputs": [
    {
     "data": {
      "text/html": [
       "<table class=\"simpletable\">\n",
       "<caption>OLS Regression Results</caption>\n",
       "<tr>\n",
       "  <th>Dep. Variable:</th>          <td>price</td>      <th>  R-squared:         </th> <td>   0.795</td>\n",
       "</tr>\n",
       "<tr>\n",
       "  <th>Model:</th>                   <td>OLS</td>       <th>  Adj. R-squared:    </th> <td>   0.793</td>\n",
       "</tr>\n",
       "<tr>\n",
       "  <th>Method:</th>             <td>Least Squares</td>  <th>  F-statistic:       </th> <td>   391.4</td>\n",
       "</tr>\n",
       "<tr>\n",
       "  <th>Date:</th>             <td>Sun, 19 Jul 2020</td> <th>  Prob (F-statistic):</th> <td>3.26e-70</td>\n",
       "</tr>\n",
       "<tr>\n",
       "  <th>Time:</th>                 <td>13:49:33</td>     <th>  Log-Likelihood:    </th> <td> -1970.1</td>\n",
       "</tr>\n",
       "<tr>\n",
       "  <th>No. Observations:</th>      <td>   205</td>      <th>  AIC:               </th> <td>   3946.</td>\n",
       "</tr>\n",
       "<tr>\n",
       "  <th>Df Residuals:</th>          <td>   202</td>      <th>  BIC:               </th> <td>   3956.</td>\n",
       "</tr>\n",
       "<tr>\n",
       "  <th>Df Model:</th>              <td>     2</td>      <th>                     </th>     <td> </td>   \n",
       "</tr>\n",
       "<tr>\n",
       "  <th>Covariance Type:</th>      <td>nonrobust</td>    <th>                     </th>     <td> </td>   \n",
       "</tr>\n",
       "</table>\n",
       "<table class=\"simpletable\">\n",
       "<tr>\n",
       "    <td></td>       <th>coef</th>     <th>std err</th>      <th>t</th>      <th>P>|t|</th>  <th>[0.025</th>    <th>0.975]</th>  \n",
       "</tr>\n",
       "<tr>\n",
       "  <th>const</th> <td> 1.328e+04</td> <td>  253.954</td> <td>   52.280</td> <td> 0.000</td> <td> 1.28e+04</td> <td> 1.38e+04</td>\n",
       "</tr>\n",
       "<tr>\n",
       "  <th>e1</th>    <td>  -13.0188</td> <td>    0.489</td> <td>  -26.640</td> <td> 0.000</td> <td>  -13.982</td> <td>  -12.055</td>\n",
       "</tr>\n",
       "<tr>\n",
       "  <th>e2</th>    <td>  112.9627</td> <td>   11.639</td> <td>    9.705</td> <td> 0.000</td> <td>   90.013</td> <td>  135.913</td>\n",
       "</tr>\n",
       "</table>\n",
       "<table class=\"simpletable\">\n",
       "<tr>\n",
       "  <th>Omnibus:</th>       <td>38.535</td> <th>  Durbin-Watson:     </th> <td>   0.689</td>\n",
       "</tr>\n",
       "<tr>\n",
       "  <th>Prob(Omnibus):</th> <td> 0.000</td> <th>  Jarque-Bera (JB):  </th> <td>  85.606</td>\n",
       "</tr>\n",
       "<tr>\n",
       "  <th>Skew:</th>          <td> 0.865</td> <th>  Prob(JB):          </th> <td>2.58e-19</td>\n",
       "</tr>\n",
       "<tr>\n",
       "  <th>Kurtosis:</th>      <td> 5.652</td> <th>  Cond. No.          </th> <td>    520.</td>\n",
       "</tr>\n",
       "</table><br/><br/>Warnings:<br/>[1] Standard Errors assume that the covariance matrix of the errors is correctly specified."
      ],
      "text/plain": [
       "<class 'statsmodels.iolib.summary.Summary'>\n",
       "\"\"\"\n",
       "                            OLS Regression Results                            \n",
       "==============================================================================\n",
       "Dep. Variable:                  price   R-squared:                       0.795\n",
       "Model:                            OLS   Adj. R-squared:                  0.793\n",
       "Method:                 Least Squares   F-statistic:                     391.4\n",
       "Date:                Sun, 19 Jul 2020   Prob (F-statistic):           3.26e-70\n",
       "Time:                        13:49:33   Log-Likelihood:                -1970.1\n",
       "No. Observations:                 205   AIC:                             3946.\n",
       "Df Residuals:                     202   BIC:                             3956.\n",
       "Df Model:                           2                                         \n",
       "Covariance Type:            nonrobust                                         \n",
       "==============================================================================\n",
       "                 coef    std err          t      P>|t|      [0.025      0.975]\n",
       "------------------------------------------------------------------------------\n",
       "const       1.328e+04    253.954     52.280      0.000    1.28e+04    1.38e+04\n",
       "e1           -13.0188      0.489    -26.640      0.000     -13.982     -12.055\n",
       "e2           112.9627     11.639      9.705      0.000      90.013     135.913\n",
       "==============================================================================\n",
       "Omnibus:                       38.535   Durbin-Watson:                   0.689\n",
       "Prob(Omnibus):                  0.000   Jarque-Bera (JB):               85.606\n",
       "Skew:                           0.865   Prob(JB):                     2.58e-19\n",
       "Kurtosis:                       5.652   Cond. No.                         520.\n",
       "==============================================================================\n",
       "\n",
       "Warnings:\n",
       "[1] Standard Errors assume that the covariance matrix of the errors is correctly specified.\n",
       "\"\"\""
      ]
     },
     "execution_count": 428,
     "metadata": {},
     "output_type": "execute_result"
    }
   ],
   "source": [
    "X_sm = sm.add_constant(X)\n",
    "lr = sm.OLS(y,X_sm)\n",
    "lm = lr.fit()\n",
    "lm.summary()"
   ]
  },
  {
   "cell_type": "code",
   "execution_count": 429,
   "metadata": {},
   "outputs": [
    {
     "name": "stdout",
     "output_type": "stream",
     "text": [
      "  features  VIF\n",
      "0       e1  1.0\n",
      "1       e2  1.0\n"
     ]
    }
   ],
   "source": [
    "get_vif(X_sm)"
   ]
  },
  {
   "cell_type": "markdown",
   "metadata": {},
   "source": [
    "All the above can simply be done using the sklearn PCA library"
   ]
  },
  {
   "cell_type": "code",
   "execution_count": 430,
   "metadata": {},
   "outputs": [],
   "source": [
    "y = car['price']\n",
    "X = car.drop('price',axis=1)"
   ]
  },
  {
   "cell_type": "code",
   "execution_count": 431,
   "metadata": {},
   "outputs": [],
   "source": [
    "pca = PCA().fit(X)"
   ]
  },
  {
   "cell_type": "code",
   "execution_count": 432,
   "metadata": {},
   "outputs": [
    {
     "data": {
      "text/plain": [
       "<matplotlib.axes._subplots.AxesSubplot at 0x25fedd95f98>"
      ]
     },
     "execution_count": 432,
     "metadata": {},
     "output_type": "execute_result"
    },
    {
     "data": {
      "image/png": "[encoded data removed]",
      "text/plain": [
       "<Figure size 720x720 with 1 Axes>"
      ]
     },
     "metadata": {
      "needs_background": "light"
     },
     "output_type": "display_data"
    }
   ],
   "source": [
    "percent_var = np.cumsum(pca.explained_variance_ratio_)\n",
    "plt.figure(figsize=(10,10))\n",
    "plt.xlabel('eigenvector')\n",
    "plt.ylabel('percent of variance')\n",
    "x =list(range(1,len(w)+1))\n",
    "sb.lineplot(x=x,y=percent_var)"
   ]
  },
  {
   "cell_type": "code",
   "execution_count": 433,
   "metadata": {},
   "outputs": [],
   "source": [
    "pca = PCA(n_components=2)\n",
    "X = pca.fit_transform(X)"
   ]
  },
  {
   "cell_type": "code",
   "execution_count": 434,
   "metadata": {},
   "outputs": [
    {
     "data": {
      "text/html": [
       "<table class=\"simpletable\">\n",
       "<caption>OLS Regression Results</caption>\n",
       "<tr>\n",
       "  <th>Dep. Variable:</th>          <td>price</td>      <th>  R-squared:         </th> <td>   0.795</td>\n",
       "</tr>\n",
       "<tr>\n",
       "  <th>Model:</th>                   <td>OLS</td>       <th>  Adj. R-squared:    </th> <td>   0.793</td>\n",
       "</tr>\n",
       "<tr>\n",
       "  <th>Method:</th>             <td>Least Squares</td>  <th>  F-statistic:       </th> <td>   391.5</td>\n",
       "</tr>\n",
       "<tr>\n",
       "  <th>Date:</th>             <td>Sun, 19 Jul 2020</td> <th>  Prob (F-statistic):</th> <td>3.20e-70</td>\n",
       "</tr>\n",
       "<tr>\n",
       "  <th>Time:</th>                 <td>13:49:36</td>     <th>  Log-Likelihood:    </th> <td> -1970.1</td>\n",
       "</tr>\n",
       "<tr>\n",
       "  <th>No. Observations:</th>      <td>   205</td>      <th>  AIC:               </th> <td>   3946.</td>\n",
       "</tr>\n",
       "<tr>\n",
       "  <th>Df Residuals:</th>          <td>   202</td>      <th>  BIC:               </th> <td>   3956.</td>\n",
       "</tr>\n",
       "<tr>\n",
       "  <th>Df Model:</th>              <td>     2</td>      <th>                     </th>     <td> </td>   \n",
       "</tr>\n",
       "<tr>\n",
       "  <th>Covariance Type:</th>      <td>nonrobust</td>    <th>                     </th>     <td> </td>   \n",
       "</tr>\n",
       "</table>\n",
       "<table class=\"simpletable\">\n",
       "<tr>\n",
       "    <td></td>       <th>coef</th>     <th>std err</th>      <th>t</th>      <th>P>|t|</th>  <th>[0.025</th>    <th>0.975]</th>  \n",
       "</tr>\n",
       "<tr>\n",
       "  <th>const</th> <td> 1.328e+04</td> <td>  253.930</td> <td>   52.285</td> <td> 0.000</td> <td> 1.28e+04</td> <td> 1.38e+04</td>\n",
       "</tr>\n",
       "<tr>\n",
       "  <th>x1</th>    <td>   12.7969</td> <td>    0.488</td> <td>   26.242</td> <td> 0.000</td> <td>   11.835</td> <td>   13.758</td>\n",
       "</tr>\n",
       "<tr>\n",
       "  <th>x2</th>    <td>  112.7710</td> <td>   11.613</td> <td>    9.711</td> <td> 0.000</td> <td>   89.873</td> <td>  135.669</td>\n",
       "</tr>\n",
       "</table>\n",
       "<table class=\"simpletable\">\n",
       "<tr>\n",
       "  <th>Omnibus:</th>       <td>38.452</td> <th>  Durbin-Watson:     </th> <td>   0.689</td>\n",
       "</tr>\n",
       "<tr>\n",
       "  <th>Prob(Omnibus):</th> <td> 0.000</td> <th>  Jarque-Bera (JB):  </th> <td>  85.401</td>\n",
       "</tr>\n",
       "<tr>\n",
       "  <th>Skew:</th>          <td> 0.863</td> <th>  Prob(JB):          </th> <td>2.85e-19</td>\n",
       "</tr>\n",
       "<tr>\n",
       "  <th>Kurtosis:</th>      <td> 5.649</td> <th>  Cond. No.          </th> <td>    521.</td>\n",
       "</tr>\n",
       "</table><br/><br/>Warnings:<br/>[1] Standard Errors assume that the covariance matrix of the errors is correctly specified."
      ],
      "text/plain": [
       "<class 'statsmodels.iolib.summary.Summary'>\n",
       "\"\"\"\n",
       "                            OLS Regression Results                            \n",
       "==============================================================================\n",
       "Dep. Variable:                  price   R-squared:                       0.795\n",
       "Model:                            OLS   Adj. R-squared:                  0.793\n",
       "Method:                 Least Squares   F-statistic:                     391.5\n",
       "Date:                Sun, 19 Jul 2020   Prob (F-statistic):           3.20e-70\n",
       "Time:                        13:49:36   Log-Likelihood:                -1970.1\n",
       "No. Observations:                 205   AIC:                             3946.\n",
       "Df Residuals:                     202   BIC:                             3956.\n",
       "Df Model:                           2                                         \n",
       "Covariance Type:            nonrobust                                         \n",
       "==============================================================================\n",
       "                 coef    std err          t      P>|t|      [0.025      0.975]\n",
       "------------------------------------------------------------------------------\n",
       "const       1.328e+04    253.930     52.285      0.000    1.28e+04    1.38e+04\n",
       "x1            12.7969      0.488     26.242      0.000      11.835      13.758\n",
       "x2           112.7710     11.613      9.711      0.000      89.873     135.669\n",
       "==============================================================================\n",
       "Omnibus:                       38.452   Durbin-Watson:                   0.689\n",
       "Prob(Omnibus):                  0.000   Jarque-Bera (JB):               85.401\n",
       "Skew:                           0.863   Prob(JB):                     2.85e-19\n",
       "Kurtosis:                       5.649   Cond. No.                         521.\n",
       "==============================================================================\n",
       "\n",
       "Warnings:\n",
       "[1] Standard Errors assume that the covariance matrix of the errors is correctly specified.\n",
       "\"\"\""
      ]
     },
     "execution_count": 434,
     "metadata": {},
     "output_type": "execute_result"
    }
   ],
   "source": [
    "X_sm = sm.add_constant(X)\n",
    "lr = sm.OLS(y,X_sm)\n",
    "lm = lr.fit()\n",
    "lm.summary()"
   ]
  },
  {
   "cell_type": "markdown",
   "metadata": {},
   "source": [
    "Further Resource:\n",
    "https://www.youtube.com/playlist?list=PLbPhAbAhvjUzeLkPVnv0kc3_9rAfXpGtS"
   ]
  },
  {
   "cell_type": "markdown",
   "metadata": {},
   "source": [
    "* #### Advantage: Main advantage is that it effectively removes multi-colinearity\n",
    "* #### Disadvantage: The explainability of the features is lost"
   ]
  },
  {
   "cell_type": "code",
   "execution_count": null,
   "metadata": {},
   "outputs": [],
   "source": []
  }
 ],
 "metadata": {
  "kernelspec": {
   "display_name": "Python 3",
   "language": "python",
   "name": "python3"
  },
  "language_info": {
   "codemirror_mode": {
    "name": "ipython",
    "version": 3
   },
   "file_extension": ".py",
   "mimetype": "text/x-python",
   "name": "python",
   "nbconvert_exporter": "python",
   "pygments_lexer": "ipython3",
   "version": "3.7.0"
  }
 },
 "nbformat": 4,
 "nbformat_minor": 2
}
