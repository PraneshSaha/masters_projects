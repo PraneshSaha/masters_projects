{
 "cells": [
  {
   "cell_type": "code",
   "execution_count": 1085,
   "metadata": {},
   "outputs": [],
   "source": [
    "import pandas as pd\n",
    "import numpy as np\n",
    "import matplotlib.pyplot as plt\n",
    "import seaborn as sb\n",
    "from bs4 import BeautifulSoup\n",
    "import requests\n",
    "import numpy as np\n"
   ]
  },
  {
   "cell_type": "code",
   "execution_count": 1086,
   "metadata": {},
   "outputs": [],
   "source": [
    "#reading the three data files\n",
    "companies = pd.read_csv('companies.csv',encoding='ISO-8859-1')\n",
    "rounds = pd.read_csv('rounds2.csv',encoding='ISO-8859-1')"
   ]
  },
  {
   "cell_type": "code",
   "execution_count": 1087,
   "metadata": {},
   "outputs": [],
   "source": [
    "mapping = pd.read_csv('mapping.csv',encoding='ISO-8859-1')"
   ]
  },
  {
   "cell_type": "code",
   "execution_count": 1088,
   "metadata": {},
   "outputs": [],
   "source": [
    "#extracting name from permalink and converting it to lower case for comparison\n",
    "rounds['company_permalink'] = rounds.apply(lambda x: x['company_permalink'].split('/')[-1].lower(),axis=1)\n",
    "companies['permalink'] = companies.apply(lambda x:  x['permalink'].split('/')[-1].lower(),axis=1)"
   ]
  },
  {
   "cell_type": "code",
   "execution_count": 1089,
   "metadata": {},
   "outputs": [
    {
     "data": {
      "text/html": [
       "<div>\n",
       "<style scoped>\n",
       "    .dataframe tbody tr th:only-of-type {\n",
       "        vertical-align: middle;\n",
       "    }\n",
       "\n",
       "    .dataframe tbody tr th {\n",
       "        vertical-align: top;\n",
       "    }\n",
       "\n",
       "    .dataframe thead th {\n",
       "        text-align: right;\n",
       "    }\n",
       "</style>\n",
       "<table border=\"1\" class=\"dataframe\">\n",
       "  <thead>\n",
       "    <tr style=\"text-align: right;\">\n",
       "      <th></th>\n",
       "      <th>permalink</th>\n",
       "      <th>name</th>\n",
       "      <th>homepage_url</th>\n",
       "      <th>category_list</th>\n",
       "      <th>status</th>\n",
       "      <th>country_code</th>\n",
       "      <th>state_code</th>\n",
       "      <th>region</th>\n",
       "      <th>city</th>\n",
       "      <th>founded_at</th>\n",
       "    </tr>\n",
       "  </thead>\n",
       "  <tbody>\n",
       "    <tr>\n",
       "      <th>count</th>\n",
       "      <td>66368</td>\n",
       "      <td>66367</td>\n",
       "      <td>61310</td>\n",
       "      <td>63220</td>\n",
       "      <td>66368</td>\n",
       "      <td>59410</td>\n",
       "      <td>57821</td>\n",
       "      <td>58338</td>\n",
       "      <td>58340</td>\n",
       "      <td>51147</td>\n",
       "    </tr>\n",
       "    <tr>\n",
       "      <th>unique</th>\n",
       "      <td>66368</td>\n",
       "      <td>66099</td>\n",
       "      <td>61191</td>\n",
       "      <td>27296</td>\n",
       "      <td>4</td>\n",
       "      <td>137</td>\n",
       "      <td>311</td>\n",
       "      <td>1092</td>\n",
       "      <td>5111</td>\n",
       "      <td>3978</td>\n",
       "    </tr>\n",
       "    <tr>\n",
       "      <th>top</th>\n",
       "      <td>notesfirst</td>\n",
       "      <td>#NAME?</td>\n",
       "      <td>http://www.askforoffer.com</td>\n",
       "      <td>Software</td>\n",
       "      <td>operating</td>\n",
       "      <td>USA</td>\n",
       "      <td>CA</td>\n",
       "      <td>SF Bay Area</td>\n",
       "      <td>San Francisco</td>\n",
       "      <td>01-01-2012</td>\n",
       "    </tr>\n",
       "    <tr>\n",
       "      <th>freq</th>\n",
       "      <td>1</td>\n",
       "      <td>4</td>\n",
       "      <td>5</td>\n",
       "      <td>3995</td>\n",
       "      <td>53034</td>\n",
       "      <td>37601</td>\n",
       "      <td>12900</td>\n",
       "      <td>8804</td>\n",
       "      <td>3526</td>\n",
       "      <td>2730</td>\n",
       "    </tr>\n",
       "  </tbody>\n",
       "</table>\n",
       "</div>"
      ],
      "text/plain": [
       "         permalink    name                homepage_url category_list  \\\n",
       "count        66368   66367                       61310         63220   \n",
       "unique       66368   66099                       61191         27296   \n",
       "top     notesfirst  #NAME?  http://www.askforoffer.com      Software   \n",
       "freq             1       4                           5          3995   \n",
       "\n",
       "           status country_code state_code       region           city  \\\n",
       "count       66368        59410      57821        58338          58340   \n",
       "unique          4          137        311         1092           5111   \n",
       "top     operating          USA         CA  SF Bay Area  San Francisco   \n",
       "freq        53034        37601      12900         8804           3526   \n",
       "\n",
       "        founded_at  \n",
       "count        51147  \n",
       "unique        3978  \n",
       "top     01-01-2012  \n",
       "freq          2730  "
      ]
     },
     "execution_count": 1089,
     "metadata": {},
     "output_type": "execute_result"
    }
   ],
   "source": [
    "#getting number of unique compaines\n",
    "companies.describe()"
   ]
  },
  {
   "cell_type": "code",
   "execution_count": 1090,
   "metadata": {},
   "outputs": [
    {
     "data": {
      "text/html": [
       "<div>\n",
       "<style scoped>\n",
       "    .dataframe tbody tr th:only-of-type {\n",
       "        vertical-align: middle;\n",
       "    }\n",
       "\n",
       "    .dataframe tbody tr th {\n",
       "        vertical-align: top;\n",
       "    }\n",
       "\n",
       "    .dataframe thead th {\n",
       "        text-align: right;\n",
       "    }\n",
       "</style>\n",
       "<table border=\"1\" class=\"dataframe\">\n",
       "  <thead>\n",
       "    <tr style=\"text-align: right;\">\n",
       "      <th></th>\n",
       "      <th>company_permalink</th>\n",
       "      <th>funding_round_permalink</th>\n",
       "      <th>funding_round_type</th>\n",
       "      <th>funding_round_code</th>\n",
       "      <th>funded_at</th>\n",
       "    </tr>\n",
       "  </thead>\n",
       "  <tbody>\n",
       "    <tr>\n",
       "      <th>count</th>\n",
       "      <td>114949</td>\n",
       "      <td>114949</td>\n",
       "      <td>114949</td>\n",
       "      <td>31140</td>\n",
       "      <td>114949</td>\n",
       "    </tr>\n",
       "    <tr>\n",
       "      <th>unique</th>\n",
       "      <td>66370</td>\n",
       "      <td>114949</td>\n",
       "      <td>14</td>\n",
       "      <td>8</td>\n",
       "      <td>5033</td>\n",
       "    </tr>\n",
       "    <tr>\n",
       "      <th>top</th>\n",
       "      <td>solarflare</td>\n",
       "      <td>/funding-round/0c72292e3356ef0dc4c3315ec9b15440</td>\n",
       "      <td>venture</td>\n",
       "      <td>A</td>\n",
       "      <td>01-01-2014</td>\n",
       "    </tr>\n",
       "    <tr>\n",
       "      <th>freq</th>\n",
       "      <td>19</td>\n",
       "      <td>1</td>\n",
       "      <td>55494</td>\n",
       "      <td>14747</td>\n",
       "      <td>779</td>\n",
       "    </tr>\n",
       "  </tbody>\n",
       "</table>\n",
       "</div>"
      ],
      "text/plain": [
       "       company_permalink                          funding_round_permalink  \\\n",
       "count             114949                                           114949   \n",
       "unique             66370                                           114949   \n",
       "top           solarflare  /funding-round/0c72292e3356ef0dc4c3315ec9b15440   \n",
       "freq                  19                                                1   \n",
       "\n",
       "       funding_round_type funding_round_code   funded_at  \n",
       "count              114949              31140      114949  \n",
       "unique                 14                  8        5033  \n",
       "top               venture                  A  01-01-2014  \n",
       "freq                55494              14747         779  "
      ]
     },
     "execution_count": 1090,
     "metadata": {},
     "output_type": "execute_result"
    }
   ],
   "source": [
    "#getting number of unique companies\n",
    "rounds.describe(exclude=[np.number])"
   ]
  },
  {
   "cell_type": "code",
   "execution_count": 1091,
   "metadata": {},
   "outputs": [],
   "source": [
    "#creating the master data frame\n",
    "master_frame = rounds.merge(companies,left_on='company_permalink',right_on='permalink',how='left')"
   ]
  },
  {
   "cell_type": "code",
   "execution_count": 1092,
   "metadata": {},
   "outputs": [
    {
     "data": {
      "text/html": [
       "<div>\n",
       "<style scoped>\n",
       "    .dataframe tbody tr th:only-of-type {\n",
       "        vertical-align: middle;\n",
       "    }\n",
       "\n",
       "    .dataframe tbody tr th {\n",
       "        vertical-align: top;\n",
       "    }\n",
       "\n",
       "    .dataframe thead th {\n",
       "        text-align: right;\n",
       "    }\n",
       "</style>\n",
       "<table border=\"1\" class=\"dataframe\">\n",
       "  <thead>\n",
       "    <tr style=\"text-align: right;\">\n",
       "      <th></th>\n",
       "      <th>company_permalink</th>\n",
       "      <th>funding_round_permalink</th>\n",
       "      <th>funding_round_type</th>\n",
       "      <th>funding_round_code</th>\n",
       "      <th>funded_at</th>\n",
       "      <th>permalink</th>\n",
       "      <th>name</th>\n",
       "      <th>homepage_url</th>\n",
       "      <th>category_list</th>\n",
       "      <th>status</th>\n",
       "      <th>country_code</th>\n",
       "      <th>state_code</th>\n",
       "      <th>region</th>\n",
       "      <th>city</th>\n",
       "      <th>founded_at</th>\n",
       "    </tr>\n",
       "  </thead>\n",
       "  <tbody>\n",
       "    <tr>\n",
       "      <th>count</th>\n",
       "      <td>114949</td>\n",
       "      <td>114949</td>\n",
       "      <td>114949</td>\n",
       "      <td>31140</td>\n",
       "      <td>114949</td>\n",
       "      <td>114942</td>\n",
       "      <td>114941</td>\n",
       "      <td>108810</td>\n",
       "      <td>111535</td>\n",
       "      <td>114942</td>\n",
       "      <td>106271</td>\n",
       "      <td>104003</td>\n",
       "      <td>104782</td>\n",
       "      <td>104785</td>\n",
       "      <td>94422</td>\n",
       "    </tr>\n",
       "    <tr>\n",
       "      <th>unique</th>\n",
       "      <td>66370</td>\n",
       "      <td>114949</td>\n",
       "      <td>14</td>\n",
       "      <td>8</td>\n",
       "      <td>5033</td>\n",
       "      <td>66363</td>\n",
       "      <td>66094</td>\n",
       "      <td>61188</td>\n",
       "      <td>27295</td>\n",
       "      <td>4</td>\n",
       "      <td>137</td>\n",
       "      <td>311</td>\n",
       "      <td>1092</td>\n",
       "      <td>5111</td>\n",
       "      <td>3977</td>\n",
       "    </tr>\n",
       "    <tr>\n",
       "      <th>top</th>\n",
       "      <td>solarflare</td>\n",
       "      <td>/funding-round/0c72292e3356ef0dc4c3315ec9b15440</td>\n",
       "      <td>venture</td>\n",
       "      <td>A</td>\n",
       "      <td>01-01-2014</td>\n",
       "      <td>solarflare</td>\n",
       "      <td>Solarflare Communications</td>\n",
       "      <td>http://www.solarflare.com</td>\n",
       "      <td>Biotechnology</td>\n",
       "      <td>operating</td>\n",
       "      <td>USA</td>\n",
       "      <td>CA</td>\n",
       "      <td>SF Bay Area</td>\n",
       "      <td>San Francisco</td>\n",
       "      <td>01-01-2012</td>\n",
       "    </tr>\n",
       "    <tr>\n",
       "      <th>freq</th>\n",
       "      <td>19</td>\n",
       "      <td>1</td>\n",
       "      <td>55494</td>\n",
       "      <td>14747</td>\n",
       "      <td>779</td>\n",
       "      <td>19</td>\n",
       "      <td>19</td>\n",
       "      <td>19</td>\n",
       "      <td>8165</td>\n",
       "      <td>90151</td>\n",
       "      <td>72308</td>\n",
       "      <td>26664</td>\n",
       "      <td>19078</td>\n",
       "      <td>7422</td>\n",
       "      <td>4642</td>\n",
       "    </tr>\n",
       "  </tbody>\n",
       "</table>\n",
       "</div>"
      ],
      "text/plain": [
       "       company_permalink                          funding_round_permalink  \\\n",
       "count             114949                                           114949   \n",
       "unique             66370                                           114949   \n",
       "top           solarflare  /funding-round/0c72292e3356ef0dc4c3315ec9b15440   \n",
       "freq                  19                                                1   \n",
       "\n",
       "       funding_round_type funding_round_code   funded_at   permalink  \\\n",
       "count              114949              31140      114949      114942   \n",
       "unique                 14                  8        5033       66363   \n",
       "top               venture                  A  01-01-2014  solarflare   \n",
       "freq                55494              14747         779          19   \n",
       "\n",
       "                             name               homepage_url  category_list  \\\n",
       "count                      114941                     108810         111535   \n",
       "unique                      66094                      61188          27295   \n",
       "top     Solarflare Communications  http://www.solarflare.com  Biotechnology   \n",
       "freq                           19                         19           8165   \n",
       "\n",
       "           status country_code state_code       region           city  \\\n",
       "count      114942       106271     104003       104782         104785   \n",
       "unique          4          137        311         1092           5111   \n",
       "top     operating          USA         CA  SF Bay Area  San Francisco   \n",
       "freq        90151        72308      26664        19078           7422   \n",
       "\n",
       "        founded_at  \n",
       "count        94422  \n",
       "unique        3977  \n",
       "top     01-01-2012  \n",
       "freq          4642  "
      ]
     },
     "execution_count": 1092,
     "metadata": {},
     "output_type": "execute_result"
    }
   ],
   "source": [
    "master_frame.describe(exclude=[np.number])"
   ]
  },
  {
   "cell_type": "code",
   "execution_count": 1093,
   "metadata": {},
   "outputs": [],
   "source": [
    "#dropping out columns that are not used in further analysis or cause redundancy\n",
    "master_frame.drop(['permalink','funding_round_code','homepage_url','funded_at','name','state_code',\\\n",
    "                   'region','city','founded_at'],axis=1,inplace=True)"
   ]
  },
  {
   "cell_type": "code",
   "execution_count": 1094,
   "metadata": {},
   "outputs": [
    {
     "data": {
      "text/plain": [
       "company_permalink           0.000000\n",
       "funding_round_permalink     0.000000\n",
       "funding_round_type          0.000000\n",
       "raised_amount_usd          17.390321\n",
       "category_list               2.970013\n",
       "status                      0.006090\n",
       "country_code                7.549435\n",
       "dtype: float64"
      ]
     },
     "execution_count": 1094,
     "metadata": {},
     "output_type": "execute_result"
    }
   ],
   "source": [
    "#getting the number of null values\n",
    "(master_frame.isnull().sum()/len(master_frame))*100"
   ]
  },
  {
   "cell_type": "code",
   "execution_count": 1095,
   "metadata": {},
   "outputs": [],
   "source": [
    "#removing rows with null value in raised_amount_usd column as this is our primary column and \n",
    "#rows with null country_code,category_list as null_country codes/category will get rejected further down the line,\n",
    "#thus making the data less bulky for further analysis\n",
    "master_frame = master_frame[~(master_frame['raised_amount_usd'].isnull()) & ~(master_frame['country_code'].isnull())\n",
    "                           & ~(master_frame['category_list'].isnull())]\n"
   ]
  },
  {
   "cell_type": "code",
   "execution_count": 1096,
   "metadata": {},
   "outputs": [
    {
     "data": {
      "text/plain": [
       "{'acquired', 'closed', 'ipo', 'operating'}"
      ]
     },
     "execution_count": 1096,
     "metadata": {},
     "output_type": "execute_result"
    }
   ],
   "source": [
    "set(master_frame['status'])"
   ]
  },
  {
   "cell_type": "code",
   "execution_count": 1097,
   "metadata": {},
   "outputs": [
    {
     "data": {
      "text/plain": [
       "company_permalink          0.0\n",
       "funding_round_permalink    0.0\n",
       "funding_round_type         0.0\n",
       "raised_amount_usd          0.0\n",
       "category_list              0.0\n",
       "status                     0.0\n",
       "country_code               0.0\n",
       "dtype: float64"
      ]
     },
     "execution_count": 1097,
     "metadata": {},
     "output_type": "execute_result"
    }
   ],
   "source": [
    "(master_frame.isnull().sum()/len(master_frame))*100"
   ]
  },
  {
   "cell_type": "code",
   "execution_count": 1098,
   "metadata": {},
   "outputs": [
    {
     "data": {
      "text/html": [
       "<div>\n",
       "<style scoped>\n",
       "    .dataframe tbody tr th:only-of-type {\n",
       "        vertical-align: middle;\n",
       "    }\n",
       "\n",
       "    .dataframe tbody tr th {\n",
       "        vertical-align: top;\n",
       "    }\n",
       "\n",
       "    .dataframe thead th {\n",
       "        text-align: right;\n",
       "    }\n",
       "</style>\n",
       "<table border=\"1\" class=\"dataframe\">\n",
       "  <thead>\n",
       "    <tr style=\"text-align: right;\">\n",
       "      <th></th>\n",
       "      <th>raised_amount_usd</th>\n",
       "    </tr>\n",
       "    <tr>\n",
       "      <th>funding_round_type</th>\n",
       "      <th></th>\n",
       "    </tr>\n",
       "  </thead>\n",
       "  <tbody>\n",
       "    <tr>\n",
       "      <th>angel</th>\n",
       "      <td>9.715739e+05</td>\n",
       "    </tr>\n",
       "    <tr>\n",
       "      <th>convertible_note</th>\n",
       "      <td>1.337187e+06</td>\n",
       "    </tr>\n",
       "    <tr>\n",
       "      <th>debt_financing</th>\n",
       "      <td>1.716765e+07</td>\n",
       "    </tr>\n",
       "    <tr>\n",
       "      <th>equity_crowdfunding</th>\n",
       "      <td>5.098980e+05</td>\n",
       "    </tr>\n",
       "    <tr>\n",
       "      <th>grant</th>\n",
       "      <td>4.512698e+06</td>\n",
       "    </tr>\n",
       "    <tr>\n",
       "      <th>non_equity_assistance</th>\n",
       "      <td>4.807534e+05</td>\n",
       "    </tr>\n",
       "    <tr>\n",
       "      <th>post_ipo_debt</th>\n",
       "      <td>1.694518e+08</td>\n",
       "    </tr>\n",
       "    <tr>\n",
       "      <th>post_ipo_equity</th>\n",
       "      <td>6.607706e+07</td>\n",
       "    </tr>\n",
       "    <tr>\n",
       "      <th>private_equity</th>\n",
       "      <td>7.393849e+07</td>\n",
       "    </tr>\n",
       "    <tr>\n",
       "      <th>product_crowdfunding</th>\n",
       "      <td>1.353227e+06</td>\n",
       "    </tr>\n",
       "    <tr>\n",
       "      <th>secondary_market</th>\n",
       "      <td>8.443853e+07</td>\n",
       "    </tr>\n",
       "    <tr>\n",
       "      <th>seed</th>\n",
       "      <td>7.477937e+05</td>\n",
       "    </tr>\n",
       "    <tr>\n",
       "      <th>undisclosed</th>\n",
       "      <td>1.589166e+07</td>\n",
       "    </tr>\n",
       "    <tr>\n",
       "      <th>venture</th>\n",
       "      <td>1.172422e+07</td>\n",
       "    </tr>\n",
       "  </tbody>\n",
       "</table>\n",
       "</div>"
      ],
      "text/plain": [
       "                       raised_amount_usd\n",
       "funding_round_type                      \n",
       "angel                       9.715739e+05\n",
       "convertible_note            1.337187e+06\n",
       "debt_financing              1.716765e+07\n",
       "equity_crowdfunding         5.098980e+05\n",
       "grant                       4.512698e+06\n",
       "non_equity_assistance       4.807534e+05\n",
       "post_ipo_debt               1.694518e+08\n",
       "post_ipo_equity             6.607706e+07\n",
       "private_equity              7.393849e+07\n",
       "product_crowdfunding        1.353227e+06\n",
       "secondary_market            8.443853e+07\n",
       "seed                        7.477937e+05\n",
       "undisclosed                 1.589166e+07\n",
       "venture                     1.172422e+07"
      ]
     },
     "execution_count": 1098,
     "metadata": {},
     "output_type": "execute_result"
    }
   ],
   "source": [
    "master_frame.groupby('funding_round_type').mean()"
   ]
  },
  {
   "cell_type": "markdown",
   "metadata": {},
   "source": [
    "PLOTTING GRAPH NUMBER 1 HERE"
   ]
  },
  {
   "cell_type": "code",
   "execution_count": 1099,
   "metadata": {},
   "outputs": [],
   "source": [
    "funding_type = ['venture','angel','seed','private_equity']\n",
    "\n",
    "mean_amount = master_frame[master_frame['funding_round_type'].isin(funding_type)].\\\n",
    "              groupby('funding_round_type').mean()/10**6\n",
    "\n",
    "number_of_investments = master_frame[master_frame['funding_round_type'].isin(funding_type)].\\\n",
    "                        groupby('funding_round_type')['company_permalink'].count()\n",
    "\n",
    "fraction_of_investments = (number_of_investments[:]/sum(number_of_investments))*100\n"
   ]
  },
  {
   "cell_type": "code",
   "execution_count": 1100,
   "metadata": {},
   "outputs": [
    {
     "data": {
      "image/png": "[encoded data removed]",
      "text/plain": [
       "<Figure size 432x288 with 1 Axes>"
      ]
     },
     "metadata": {},
     "output_type": "display_data"
    }
   ],
   "source": [
    "labels = list(map(lambda x,y:'\\n'+x.upper()+' \\n         avg_investment (in millions$): '+\\\n",
    "                  str(y[0].round(2))+'\\n',list(mean_amount.index),list(mean_amount.values)))\n",
    "\n",
    "fig1,ax1 = plt.subplots()\n",
    "plt.title('Percentage of Total Number of Investment\\n')\n",
    "ax1.pie(list(fraction_of_investments),labels=labels,autopct='%.2f%%',pctdistance=0.75,\\\n",
    "        labeldistance=1.088,radius=10.0)\n",
    "\n",
    "ax1.axis('equal')\n",
    "plt.tight_layout()\n",
    "plt.show()\n",
    "fig1.savefig('investment_pct.png',dpi=fig1.dpi,bbox_inches='tight')\n"
   ]
  },
  {
   "cell_type": "markdown",
   "metadata": {},
   "source": [
    "END OF PLOT"
   ]
  },
  {
   "cell_type": "code",
   "execution_count": 1101,
   "metadata": {},
   "outputs": [],
   "source": [
    "master_frame = master_frame[master_frame['funding_round_type']=='venture']"
   ]
  },
  {
   "cell_type": "code",
   "execution_count": 1102,
   "metadata": {},
   "outputs": [],
   "source": [
    "# getting the list of countries where english is the official language from wikipedia\n",
    "url = requests.get('https://en.wikipedia.org/wiki/List_of_territorial_entities_where_\\\n",
    "                   English_is_an_official_language').text\n",
    "soup = BeautifulSoup(url,'lxml')\n",
    "tables = soup.find_all('table',class_='wikitable sortable')\n",
    "english_speaking_countries = []\n",
    "for tb_no in range(2):\n",
    "    table = tables[tb_no]\n",
    "    data_rows = table.find_all('td')\n",
    "    countries = [data_rows[tb_no].text.strip() for tb_no in range(2,len(data_rows),6)]\n",
    "    english_speaking_countries.extend(countries)"
   ]
  },
  {
   "cell_type": "code",
   "execution_count": 1103,
   "metadata": {},
   "outputs": [],
   "source": [
    "top9 = master_frame[master_frame['country_code'].isin(english_speaking_countries)].\\\n",
    "       groupby('country_code').sum().sort_values(by='raised_amount_usd',ascending=False).head(9)"
   ]
  },
  {
   "cell_type": "code",
   "execution_count": 1104,
   "metadata": {},
   "outputs": [
    {
     "data": {
      "text/html": [
       "<div>\n",
       "<style scoped>\n",
       "    .dataframe tbody tr th:only-of-type {\n",
       "        vertical-align: middle;\n",
       "    }\n",
       "\n",
       "    .dataframe tbody tr th {\n",
       "        vertical-align: top;\n",
       "    }\n",
       "\n",
       "    .dataframe thead th {\n",
       "        text-align: right;\n",
       "    }\n",
       "</style>\n",
       "<table border=\"1\" class=\"dataframe\">\n",
       "  <thead>\n",
       "    <tr style=\"text-align: right;\">\n",
       "      <th></th>\n",
       "      <th>raised_amount_usd</th>\n",
       "    </tr>\n",
       "    <tr>\n",
       "      <th>country_code</th>\n",
       "      <th></th>\n",
       "    </tr>\n",
       "  </thead>\n",
       "  <tbody>\n",
       "    <tr>\n",
       "      <th>USA</th>\n",
       "      <td>4.200680e+11</td>\n",
       "    </tr>\n",
       "    <tr>\n",
       "      <th>GBR</th>\n",
       "      <td>2.007281e+10</td>\n",
       "    </tr>\n",
       "    <tr>\n",
       "      <th>IND</th>\n",
       "      <td>1.426151e+10</td>\n",
       "    </tr>\n",
       "    <tr>\n",
       "      <th>CAN</th>\n",
       "      <td>9.482218e+09</td>\n",
       "    </tr>\n",
       "    <tr>\n",
       "      <th>SGP</th>\n",
       "      <td>2.793918e+09</td>\n",
       "    </tr>\n",
       "    <tr>\n",
       "      <th>IRL</th>\n",
       "      <td>1.669286e+09</td>\n",
       "    </tr>\n",
       "    <tr>\n",
       "      <th>AUS</th>\n",
       "      <td>1.319029e+09</td>\n",
       "    </tr>\n",
       "    <tr>\n",
       "      <th>NZL</th>\n",
       "      <td>4.483164e+08</td>\n",
       "    </tr>\n",
       "    <tr>\n",
       "      <th>ZAF</th>\n",
       "      <td>2.337131e+08</td>\n",
       "    </tr>\n",
       "  </tbody>\n",
       "</table>\n",
       "</div>"
      ],
      "text/plain": [
       "              raised_amount_usd\n",
       "country_code                   \n",
       "USA                4.200680e+11\n",
       "GBR                2.007281e+10\n",
       "IND                1.426151e+10\n",
       "CAN                9.482218e+09\n",
       "SGP                2.793918e+09\n",
       "IRL                1.669286e+09\n",
       "AUS                1.319029e+09\n",
       "NZL                4.483164e+08\n",
       "ZAF                2.337131e+08"
      ]
     },
     "execution_count": 1104,
     "metadata": {},
     "output_type": "execute_result"
    }
   ],
   "source": [
    "top9"
   ]
  },
  {
   "cell_type": "markdown",
   "metadata": {},
   "source": [
    "PLOTTING GRAPH NUMBER 2 HERE"
   ]
  },
  {
   "cell_type": "code",
   "execution_count": 1105,
   "metadata": {},
   "outputs": [
    {
     "data": {
      "text/plain": [
       "<BarContainer object of 9 artists>"
      ]
     },
     "execution_count": 1105,
     "metadata": {},
     "output_type": "execute_result"
    },
    {
     "data": {
      "image/png": "[encoded data removed]",
      "text/plain": [
       "<Figure size 432x288 with 1 Axes>"
      ]
     },
     "metadata": {},
     "output_type": "display_data"
    }
   ],
   "source": [
    "labels = list(top9.index)\n",
    "values = list(np.log10(top9['raised_amount_usd']/10**6))\n",
    "fig1,ax1 = plt.subplots()\n",
    "plt.title('Country VS LOG (MEAN INVESTMENT in millions$)')\n",
    "plt.xlabel('Country Code')\n",
    "plt.ylabel(u'LOG (MEAN INVESTMENT in millions$)')\n",
    "ax1.bar(labels,values)\n",
    "# fig1.savefig('investment_countrywise.png',bbox_inches='tight')\n",
    "# plt.close()"
   ]
  },
  {
   "cell_type": "markdown",
   "metadata": {},
   "source": [
    "END OF PLOT"
   ]
  },
  {
   "cell_type": "code",
   "execution_count": 1106,
   "metadata": {},
   "outputs": [
    {
     "data": {
      "text/html": [
       "<div>\n",
       "<style scoped>\n",
       "    .dataframe tbody tr th:only-of-type {\n",
       "        vertical-align: middle;\n",
       "    }\n",
       "\n",
       "    .dataframe tbody tr th {\n",
       "        vertical-align: top;\n",
       "    }\n",
       "\n",
       "    .dataframe thead th {\n",
       "        text-align: right;\n",
       "    }\n",
       "</style>\n",
       "<table border=\"1\" class=\"dataframe\">\n",
       "  <thead>\n",
       "    <tr style=\"text-align: right;\">\n",
       "      <th></th>\n",
       "      <th>Automotive &amp; Sports</th>\n",
       "      <th>Blanks</th>\n",
       "      <th>Cleantech / Semiconductors</th>\n",
       "      <th>Entertainment</th>\n",
       "      <th>Health</th>\n",
       "      <th>Manufacturing</th>\n",
       "      <th>News, Search and Messaging</th>\n",
       "      <th>Others</th>\n",
       "      <th>Social, Finance, Analytics, Advertising</th>\n",
       "    </tr>\n",
       "  </thead>\n",
       "  <tbody>\n",
       "    <tr>\n",
       "      <th>count</th>\n",
       "      <td>688.000000</td>\n",
       "      <td>688.000000</td>\n",
       "      <td>688.000000</td>\n",
       "      <td>688.000000</td>\n",
       "      <td>688.000000</td>\n",
       "      <td>688.000000</td>\n",
       "      <td>688.000000</td>\n",
       "      <td>688.000000</td>\n",
       "      <td>688.000000</td>\n",
       "    </tr>\n",
       "    <tr>\n",
       "      <th>mean</th>\n",
       "      <td>0.031977</td>\n",
       "      <td>0.001453</td>\n",
       "      <td>0.077035</td>\n",
       "      <td>0.129360</td>\n",
       "      <td>0.091570</td>\n",
       "      <td>0.058140</td>\n",
       "      <td>0.104651</td>\n",
       "      <td>0.283430</td>\n",
       "      <td>0.222384</td>\n",
       "    </tr>\n",
       "    <tr>\n",
       "      <th>std</th>\n",
       "      <td>0.176066</td>\n",
       "      <td>0.038125</td>\n",
       "      <td>0.266841</td>\n",
       "      <td>0.335843</td>\n",
       "      <td>0.288627</td>\n",
       "      <td>0.234177</td>\n",
       "      <td>0.306326</td>\n",
       "      <td>0.450991</td>\n",
       "      <td>0.416150</td>\n",
       "    </tr>\n",
       "    <tr>\n",
       "      <th>min</th>\n",
       "      <td>0.000000</td>\n",
       "      <td>0.000000</td>\n",
       "      <td>0.000000</td>\n",
       "      <td>0.000000</td>\n",
       "      <td>0.000000</td>\n",
       "      <td>0.000000</td>\n",
       "      <td>0.000000</td>\n",
       "      <td>0.000000</td>\n",
       "      <td>0.000000</td>\n",
       "    </tr>\n",
       "    <tr>\n",
       "      <th>25%</th>\n",
       "      <td>0.000000</td>\n",
       "      <td>0.000000</td>\n",
       "      <td>0.000000</td>\n",
       "      <td>0.000000</td>\n",
       "      <td>0.000000</td>\n",
       "      <td>0.000000</td>\n",
       "      <td>0.000000</td>\n",
       "      <td>0.000000</td>\n",
       "      <td>0.000000</td>\n",
       "    </tr>\n",
       "    <tr>\n",
       "      <th>50%</th>\n",
       "      <td>0.000000</td>\n",
       "      <td>0.000000</td>\n",
       "      <td>0.000000</td>\n",
       "      <td>0.000000</td>\n",
       "      <td>0.000000</td>\n",
       "      <td>0.000000</td>\n",
       "      <td>0.000000</td>\n",
       "      <td>0.000000</td>\n",
       "      <td>0.000000</td>\n",
       "    </tr>\n",
       "    <tr>\n",
       "      <th>75%</th>\n",
       "      <td>0.000000</td>\n",
       "      <td>0.000000</td>\n",
       "      <td>0.000000</td>\n",
       "      <td>0.000000</td>\n",
       "      <td>0.000000</td>\n",
       "      <td>0.000000</td>\n",
       "      <td>0.000000</td>\n",
       "      <td>1.000000</td>\n",
       "      <td>0.000000</td>\n",
       "    </tr>\n",
       "    <tr>\n",
       "      <th>max</th>\n",
       "      <td>1.000000</td>\n",
       "      <td>1.000000</td>\n",
       "      <td>1.000000</td>\n",
       "      <td>1.000000</td>\n",
       "      <td>1.000000</td>\n",
       "      <td>1.000000</td>\n",
       "      <td>1.000000</td>\n",
       "      <td>1.000000</td>\n",
       "      <td>1.000000</td>\n",
       "    </tr>\n",
       "  </tbody>\n",
       "</table>\n",
       "</div>"
      ],
      "text/plain": [
       "       Automotive & Sports      Blanks  Cleantech / Semiconductors  \\\n",
       "count           688.000000  688.000000                  688.000000   \n",
       "mean              0.031977    0.001453                    0.077035   \n",
       "std               0.176066    0.038125                    0.266841   \n",
       "min               0.000000    0.000000                    0.000000   \n",
       "25%               0.000000    0.000000                    0.000000   \n",
       "50%               0.000000    0.000000                    0.000000   \n",
       "75%               0.000000    0.000000                    0.000000   \n",
       "max               1.000000    1.000000                    1.000000   \n",
       "\n",
       "       Entertainment      Health  Manufacturing  News, Search and Messaging  \\\n",
       "count     688.000000  688.000000     688.000000                  688.000000   \n",
       "mean        0.129360    0.091570       0.058140                    0.104651   \n",
       "std         0.335843    0.288627       0.234177                    0.306326   \n",
       "min         0.000000    0.000000       0.000000                    0.000000   \n",
       "25%         0.000000    0.000000       0.000000                    0.000000   \n",
       "50%         0.000000    0.000000       0.000000                    0.000000   \n",
       "75%         0.000000    0.000000       0.000000                    0.000000   \n",
       "max         1.000000    1.000000       1.000000                    1.000000   \n",
       "\n",
       "           Others  Social, Finance, Analytics, Advertising  \n",
       "count  688.000000                               688.000000  \n",
       "mean     0.283430                                 0.222384  \n",
       "std      0.450991                                 0.416150  \n",
       "min      0.000000                                 0.000000  \n",
       "25%      0.000000                                 0.000000  \n",
       "50%      0.000000                                 0.000000  \n",
       "75%      1.000000                                 0.000000  \n",
       "max      1.000000                                 1.000000  "
      ]
     },
     "execution_count": 1106,
     "metadata": {},
     "output_type": "execute_result"
    }
   ],
   "source": [
    "mapping.describe()"
   ]
  },
  {
   "cell_type": "code",
   "execution_count": 1107,
   "metadata": {},
   "outputs": [
    {
     "data": {
      "text/html": [
       "<div>\n",
       "<style scoped>\n",
       "    .dataframe tbody tr th:only-of-type {\n",
       "        vertical-align: middle;\n",
       "    }\n",
       "\n",
       "    .dataframe tbody tr th {\n",
       "        vertical-align: top;\n",
       "    }\n",
       "\n",
       "    .dataframe thead th {\n",
       "        text-align: right;\n",
       "    }\n",
       "</style>\n",
       "<table border=\"1\" class=\"dataframe\">\n",
       "  <thead>\n",
       "    <tr style=\"text-align: right;\">\n",
       "      <th></th>\n",
       "      <th>category_list</th>\n",
       "      <th>Automotive &amp; Sports</th>\n",
       "      <th>Blanks</th>\n",
       "      <th>Cleantech / Semiconductors</th>\n",
       "      <th>Entertainment</th>\n",
       "      <th>Health</th>\n",
       "      <th>Manufacturing</th>\n",
       "      <th>News, Search and Messaging</th>\n",
       "      <th>Others</th>\n",
       "      <th>Social, Finance, Analytics, Advertising</th>\n",
       "    </tr>\n",
       "  </thead>\n",
       "  <tbody>\n",
       "    <tr>\n",
       "      <th>0</th>\n",
       "      <td>NaN</td>\n",
       "      <td>0</td>\n",
       "      <td>1</td>\n",
       "      <td>0</td>\n",
       "      <td>0</td>\n",
       "      <td>0</td>\n",
       "      <td>0</td>\n",
       "      <td>0</td>\n",
       "      <td>0</td>\n",
       "      <td>0</td>\n",
       "    </tr>\n",
       "    <tr>\n",
       "      <th>1</th>\n",
       "      <td>3D</td>\n",
       "      <td>0</td>\n",
       "      <td>0</td>\n",
       "      <td>0</td>\n",
       "      <td>0</td>\n",
       "      <td>0</td>\n",
       "      <td>1</td>\n",
       "      <td>0</td>\n",
       "      <td>0</td>\n",
       "      <td>0</td>\n",
       "    </tr>\n",
       "    <tr>\n",
       "      <th>2</th>\n",
       "      <td>3D Printing</td>\n",
       "      <td>0</td>\n",
       "      <td>0</td>\n",
       "      <td>0</td>\n",
       "      <td>0</td>\n",
       "      <td>0</td>\n",
       "      <td>1</td>\n",
       "      <td>0</td>\n",
       "      <td>0</td>\n",
       "      <td>0</td>\n",
       "    </tr>\n",
       "    <tr>\n",
       "      <th>3</th>\n",
       "      <td>3D Technology</td>\n",
       "      <td>0</td>\n",
       "      <td>0</td>\n",
       "      <td>0</td>\n",
       "      <td>0</td>\n",
       "      <td>0</td>\n",
       "      <td>1</td>\n",
       "      <td>0</td>\n",
       "      <td>0</td>\n",
       "      <td>0</td>\n",
       "    </tr>\n",
       "    <tr>\n",
       "      <th>4</th>\n",
       "      <td>Accounting</td>\n",
       "      <td>0</td>\n",
       "      <td>0</td>\n",
       "      <td>0</td>\n",
       "      <td>0</td>\n",
       "      <td>0</td>\n",
       "      <td>0</td>\n",
       "      <td>0</td>\n",
       "      <td>0</td>\n",
       "      <td>1</td>\n",
       "    </tr>\n",
       "  </tbody>\n",
       "</table>\n",
       "</div>"
      ],
      "text/plain": [
       "   category_list  Automotive & Sports  Blanks  Cleantech / Semiconductors  \\\n",
       "0            NaN                    0       1                           0   \n",
       "1             3D                    0       0                           0   \n",
       "2    3D Printing                    0       0                           0   \n",
       "3  3D Technology                    0       0                           0   \n",
       "4     Accounting                    0       0                           0   \n",
       "\n",
       "   Entertainment  Health  Manufacturing  News, Search and Messaging  Others  \\\n",
       "0              0       0              0                           0       0   \n",
       "1              0       0              1                           0       0   \n",
       "2              0       0              1                           0       0   \n",
       "3              0       0              1                           0       0   \n",
       "4              0       0              0                           0       0   \n",
       "\n",
       "   Social, Finance, Analytics, Advertising  \n",
       "0                                        0  \n",
       "1                                        0  \n",
       "2                                        0  \n",
       "3                                        0  \n",
       "4                                        1  "
      ]
     },
     "execution_count": 1107,
     "metadata": {},
     "output_type": "execute_result"
    }
   ],
   "source": [
    "mapping.head(5)"
   ]
  },
  {
   "cell_type": "code",
   "execution_count": 1108,
   "metadata": {},
   "outputs": [],
   "source": [
    "#extracting primary sector from category_list\n",
    "master_frame['primary_sector'] = master_frame.apply(lambda x: str(x['category_list']).split('|')[0],axis=1)"
   ]
  },
  {
   "cell_type": "code",
   "execution_count": 1109,
   "metadata": {},
   "outputs": [],
   "source": [
    "#upon analyis found that many spelling mismatches between primary_sector and category_list columns where '0'\n",
    "# is present inplace of 'na'\n",
    "category_in_mapping = set(mapping['category_list'])\n",
    "category_master = set(master_frame['primary_sector'])\n",
    "cat_map = category_in_mapping.difference(category_master)\n",
    "def replace(category):\n",
    "    s = category.split('0')\n",
    "    if len(s)>=2 and s[0]!='':\n",
    "        return 'na'.join(s)\n",
    "    else:\n",
    "        return 'Na'+s[1]\n",
    "  "
   ]
  },
  {
   "cell_type": "code",
   "execution_count": 1110,
   "metadata": {},
   "outputs": [],
   "source": [
    "mapping['category_list'] = mapping.apply(lambda x: replace(x['category_list']) if ((x['category_list'] in cat_map) and ('0' in str(x['category_list']))) else x['category_list'],axis=1)"
   ]
  },
  {
   "cell_type": "code",
   "execution_count": 1111,
   "metadata": {},
   "outputs": [
    {
     "name": "stdout",
     "output_type": "stream",
     "text": [
      "Categories present in Maste_frame but not in mapping\n",
      " {'Product Search', 'GreenTech', 'Retirement', 'Enterprise Hardware', 'Adaptive Equipment', 'Specialty Retail', 'Biotechnology and Semiconductor', 'Rapidly Expanding', 'English-Speaking', 'Racing', 'Natural Gas Uses'}\n",
      "Enterprise 2.0\n"
     ]
    }
   ],
   "source": [
    "#checking whether any mismatch is left\n",
    "print(\"Categories present in Maste_frame but not in mapping\\n\",category_master.difference(set(mapping['category_list'])))\n",
    "for word in set(mapping['category_list']):\n",
    "    if '0' in str(word):\n",
    "        print(word)"
   ]
  },
  {
   "cell_type": "code",
   "execution_count": 1112,
   "metadata": {},
   "outputs": [],
   "source": [
    "#removing any leading/trailing spaces from category_list entries\n",
    "mapping['category_list'] = mapping.apply(lambda x: str(x['category_list']).strip(),axis=1)\n",
    "#dropping the blank category as it is not used further\n",
    "mapping.drop('Blanks',axis=1,inplace=True)\n",
    "#making the category_list column the index of mapping dataframe\n",
    "mapping.set_index('category_list',inplace=True)\n",
    "#extracting the main sectors in a list\n",
    "main_sectors = list(mapping.columns)\n"
   ]
  },
  {
   "cell_type": "code",
   "execution_count": 1113,
   "metadata": {},
   "outputs": [],
   "source": [
    "#Some values are present in master_dataframe but not in mapping. By default putting them into Others,but for some \n",
    "#the main_sector can be guessed\n",
    "mapping.loc['Greentech'] = [0,1,0,0,0,0,0,0] #main sector- Cleantech / Semiconductors\n",
    "mapping.loc['Specialty Retail'] = [0,0,0,0,0,0,0,1]#main sector - Social, Finance, Analytics, Advertising\n",
    "mapping.loc['Racing'] = [1,0,0,0,0,0,0,0] #main sector - Automotive & SPorts\n",
    "mapping.loc['Enterprise Hardware'] = [0,0,0,0,1,0,0,0] #main sector - Manufacturing"
   ]
  },
  {
   "cell_type": "code",
   "execution_count": 1114,
   "metadata": {},
   "outputs": [
    {
     "name": "stdout",
     "output_type": "stream",
     "text": [
      "0                        Automotive & Sports\n",
      "1                 Cleantech / Semiconductors\n",
      "2                              Entertainment\n",
      "3                                     Health\n",
      "4                              Manufacturing\n",
      "5                 News, Search and Messaging\n",
      "6                                     Others\n",
      "7    Social, Finance, Analytics, Advertising\n",
      "dtype: object\n"
     ]
    }
   ],
   "source": [
    "main_sectors = pd.Series(main_sectors)\n",
    "print(main_sectors)"
   ]
  },
  {
   "cell_type": "code",
   "execution_count": 1115,
   "metadata": {},
   "outputs": [],
   "source": [
    "#mapping function for primary sector to main_sector\n",
    "def get_sector(primary_sector):\n",
    "    if primary_sector in list(mapping.index):\n",
    "        return mapping.loc[primary_sector,:]\n",
    "    else:\n",
    "        return [0,0,0,0,0,0,1,0]\n",
    " "
   ]
  },
  {
   "cell_type": "code",
   "execution_count": 1116,
   "metadata": {},
   "outputs": [],
   "source": [
    "       \n",
    "master_frame['main_sector'] = master_frame.apply(lambda x:'Blank' if x['primary_sector']=='nan'\\\n",
    "                                                 else main_sectors[list(map(bool,get_sector(\\\n",
    "                                                 x['primary_sector'])))].values[0],axis=1)"
   ]
  },
  {
   "cell_type": "code",
   "execution_count": 1117,
   "metadata": {},
   "outputs": [
    {
     "data": {
      "text/html": [
       "<div>\n",
       "<style scoped>\n",
       "    .dataframe tbody tr th:only-of-type {\n",
       "        vertical-align: middle;\n",
       "    }\n",
       "\n",
       "    .dataframe tbody tr th {\n",
       "        vertical-align: top;\n",
       "    }\n",
       "\n",
       "    .dataframe thead th {\n",
       "        text-align: right;\n",
       "    }\n",
       "</style>\n",
       "<table border=\"1\" class=\"dataframe\">\n",
       "  <thead>\n",
       "    <tr style=\"text-align: right;\">\n",
       "      <th></th>\n",
       "      <th>company_permalink</th>\n",
       "      <th>funding_round_permalink</th>\n",
       "      <th>funding_round_type</th>\n",
       "      <th>category_list</th>\n",
       "      <th>status</th>\n",
       "      <th>country_code</th>\n",
       "      <th>primary_sector</th>\n",
       "      <th>main_sector</th>\n",
       "    </tr>\n",
       "  </thead>\n",
       "  <tbody>\n",
       "    <tr>\n",
       "      <th>count</th>\n",
       "      <td>47809</td>\n",
       "      <td>47809</td>\n",
       "      <td>47809</td>\n",
       "      <td>47809</td>\n",
       "      <td>47809</td>\n",
       "      <td>47809</td>\n",
       "      <td>47809</td>\n",
       "      <td>47809</td>\n",
       "    </tr>\n",
       "    <tr>\n",
       "      <th>unique</th>\n",
       "      <td>27332</td>\n",
       "      <td>47809</td>\n",
       "      <td>1</td>\n",
       "      <td>9946</td>\n",
       "      <td>4</td>\n",
       "      <td>97</td>\n",
       "      <td>603</td>\n",
       "      <td>8</td>\n",
       "    </tr>\n",
       "    <tr>\n",
       "      <th>top</th>\n",
       "      <td>endogastric-solutions</td>\n",
       "      <td>/funding-round/0c72292e3356ef0dc4c3315ec9b15440</td>\n",
       "      <td>venture</td>\n",
       "      <td>Biotechnology</td>\n",
       "      <td>operating</td>\n",
       "      <td>USA</td>\n",
       "      <td>Biotechnology</td>\n",
       "      <td>Others</td>\n",
       "    </tr>\n",
       "    <tr>\n",
       "      <th>freq</th>\n",
       "      <td>14</td>\n",
       "      <td>1</td>\n",
       "      <td>47809</td>\n",
       "      <td>5402</td>\n",
       "      <td>34996</td>\n",
       "      <td>35943</td>\n",
       "      <td>6794</td>\n",
       "      <td>11426</td>\n",
       "    </tr>\n",
       "  </tbody>\n",
       "</table>\n",
       "</div>"
      ],
      "text/plain": [
       "            company_permalink  \\\n",
       "count                   47809   \n",
       "unique                  27332   \n",
       "top     endogastric-solutions   \n",
       "freq                       14   \n",
       "\n",
       "                                funding_round_permalink funding_round_type  \\\n",
       "count                                             47809              47809   \n",
       "unique                                            47809                  1   \n",
       "top     /funding-round/0c72292e3356ef0dc4c3315ec9b15440            venture   \n",
       "freq                                                  1              47809   \n",
       "\n",
       "        category_list     status country_code primary_sector main_sector  \n",
       "count           47809      47809        47809          47809       47809  \n",
       "unique           9946          4           97            603           8  \n",
       "top     Biotechnology  operating          USA  Biotechnology      Others  \n",
       "freq             5402      34996        35943           6794       11426  "
      ]
     },
     "execution_count": 1117,
     "metadata": {},
     "output_type": "execute_result"
    }
   ],
   "source": [
    "master_frame.describe(exclude=[np.number])"
   ]
  },
  {
   "cell_type": "code",
   "execution_count": 1118,
   "metadata": {},
   "outputs": [],
   "source": [
    "#selecting main sectors other than blank and only those records with investment between 5 to 15 million\n",
    "master_frame = master_frame[~(master_frame['main_sector']=='Blank') & (5*10**6<=master_frame['raised_amount_usd']) \n",
    "                           & (15*10**6>=master_frame['raised_amount_usd'])]"
   ]
  },
  {
   "cell_type": "code",
   "execution_count": 1119,
   "metadata": {},
   "outputs": [],
   "source": [
    "#breaking up the master frame into 3 separate frames for the top 3 countries\n",
    "D1 = master_frame[master_frame['country_code']=='USA']\n",
    "D2 = master_frame[master_frame['country_code']=='GBR']\n",
    "D3 = master_frame[master_frame['country_code']=='IND']"
   ]
  },
  {
   "cell_type": "code",
   "execution_count": 1120,
   "metadata": {},
   "outputs": [],
   "source": [
    "import warnings\n",
    "warnings.filterwarnings('ignore')\n",
    "#finding the number and total amount of investment in each sector\n",
    "D1['investment_count_sectorwise'] = D1.groupby(['main_sector'])['company_permalink'].transform('count')\n",
    "D1['total_investment_sectorwise'] = D1.groupby(['main_sector'])['raised_amount_usd'].transform('sum')\n",
    "\n",
    "D2['investment_count_sectorwise'] = D2.groupby(['main_sector'])['company_permalink'].transform('count')\n",
    "D2['total_investment_sectorwise'] = D2.groupby(['main_sector'])['raised_amount_usd'].transform('sum')\n",
    "\n",
    "D3['investment_count_sectorwise'] = D3.groupby(['main_sector'])['company_permalink'].transform('count')\n",
    "D3['total_investment_sectorwise'] = D3.groupby(['main_sector'])['raised_amount_usd'].transform('sum')\n"
   ]
  },
  {
   "cell_type": "code",
   "execution_count": 1121,
   "metadata": {},
   "outputs": [
    {
     "name": "stdout",
     "output_type": "stream",
     "text": [
      "Total number of investments in C1: 12064\n",
      "Total number of investments in C2: 621\n",
      "Total number of investments in C3: 328\n",
      "Total amount of investments in C1: 107766584223.0\n",
      "Total amount of investments in C2: 5379078691.0\n",
      "Total amount of investments in C3: 2949543602.0\n"
     ]
    }
   ],
   "source": [
    "print('Total number of investments in C1:',sum(set(D1['investment_count_sectorwise'])))\n",
    "print('Total number of investments in C2:',sum(set(D2['investment_count_sectorwise'])))\n",
    "print('Total number of investments in C3:',sum(set(D3['investment_count_sectorwise'])))\n",
    "\n",
    "print('Total amount of investments in C1:',sum(set(D1['total_investment_sectorwise'])))\n",
    "print('Total amount of investments in C2:',sum(set(D2['total_investment_sectorwise'])))\n",
    "print('Total amount of investments in C3:',sum(set(D3['total_investment_sectorwise'])))\n"
   ]
  },
  {
   "cell_type": "code",
   "execution_count": 1122,
   "metadata": {},
   "outputs": [
    {
     "name": "stdout",
     "output_type": "stream",
     "text": [
      "Percent of closed/acquired companies in C1: 30.1\n"
     ]
    }
   ],
   "source": [
    "print(\"Percent of closed/acquired companies in C1:\",round(100*len(D1[(D1['status']=='closed') \\\n",
    "                                                   | (D1['status']=='acquired')])/len(D1),2))"
   ]
  },
  {
   "cell_type": "code",
   "execution_count": 1123,
   "metadata": {},
   "outputs": [
    {
     "name": "stdout",
     "output_type": "stream",
     "text": [
      "Percent of closed/acquired companies in C2: 22.71\n"
     ]
    }
   ],
   "source": [
    "print(\"Percent of closed/acquired companies in C2:\",round(100*len(D2[(D2['status']=='closed') \\\n",
    "                                                   | (D2['status']=='acquired')])/len(D2),2))"
   ]
  },
  {
   "cell_type": "code",
   "execution_count": 1124,
   "metadata": {},
   "outputs": [
    {
     "name": "stdout",
     "output_type": "stream",
     "text": [
      "Percent of closed/acquired companies in C3: 9.15\n"
     ]
    }
   ],
   "source": [
    "print(\"Percent of closed/acquired companies in C3:\",round(100*len(D3[(D3['status']=='closed') \\\n",
    "                                                   | (D3['status']=='acquired')])/len(D3),2))"
   ]
  },
  {
   "cell_type": "code",
   "execution_count": 1125,
   "metadata": {},
   "outputs": [],
   "source": [
    "def get_top_sector_countrywise(data):\n",
    "    df = data[['country_code','main_sector','investment_count_sectorwise','total_investment_sectorwise']].sort_values('investment_count_sectorwise',ascending=False).\\\n",
    "         drop_duplicates(keep='first').head(3)\n",
    "    return df\n"
   ]
  },
  {
   "cell_type": "code",
   "execution_count": 1126,
   "metadata": {},
   "outputs": [
    {
     "name": "stdout",
     "output_type": "stream",
     "text": [
      "top sectors by count in C1\n",
      ":       country_code                              main_sector  \\\n",
      "79798          USA                                   Others   \n",
      "54086          USA  Social, Finance, Analytics, Advertising   \n",
      "84593          USA               Cleantech / Semiconductors   \n",
      "\n",
      "       investment_count_sectorwise  total_investment_sectorwise  \n",
      "79798                         2951                 2.633049e+10  \n",
      "54086                         2714                 2.380738e+10  \n",
      "84593                         2350                 2.163343e+10  \n"
     ]
    }
   ],
   "source": [
    "print('top sectors by count in C1\\n:',get_top_sector_countrywise(D1))"
   ]
  },
  {
   "cell_type": "code",
   "execution_count": 1127,
   "metadata": {},
   "outputs": [
    {
     "name": "stdout",
     "output_type": "stream",
     "text": [
      "top sectors by count in C2\n",
      ":        country_code                              main_sector  \\\n",
      "114916          GBR                                   Others   \n",
      "111292          GBR  Social, Finance, Analytics, Advertising   \n",
      "76175           GBR               Cleantech / Semiconductors   \n",
      "\n",
      "        investment_count_sectorwise  total_investment_sectorwise  \n",
      "114916                          147                 1.283624e+09  \n",
      "111292                          133                 1.089404e+09  \n",
      "76175                           130                 1.163990e+09  \n"
     ]
    }
   ],
   "source": [
    "print('top sectors by count in C2\\n:',get_top_sector_countrywise(D2))"
   ]
  },
  {
   "cell_type": "code",
   "execution_count": 1128,
   "metadata": {},
   "outputs": [
    {
     "name": "stdout",
     "output_type": "stream",
     "text": [
      "top sectors by count in C3\n",
      ":       country_code                              main_sector  \\\n",
      "45275          IND                                   Others   \n",
      "48123          IND  Social, Finance, Analytics, Advertising   \n",
      "84291          IND               News, Search and Messaging   \n",
      "\n",
      "       investment_count_sectorwise  total_investment_sectorwise  \n",
      "45275                          110                 1.013410e+09  \n",
      "48123                           60                 5.505496e+08  \n",
      "84291                           52                 4.338345e+08  \n"
     ]
    }
   ],
   "source": [
    "print('top sectors by count in C3\\n:',get_top_sector_countrywise(D3))"
   ]
  },
  {
   "cell_type": "code",
   "execution_count": 1129,
   "metadata": {},
   "outputs": [],
   "source": [
    "def get_top_company_sectorwise(data,sector):\n",
    "    df = data.loc[data['main_sector']==sector,['company_permalink','raised_amount_usd']].\\\n",
    "         groupby('company_permalink').sum().sort_values('raised_amount_usd',ascending=False).head(3)\n",
    "    return df"
   ]
  },
  {
   "cell_type": "code",
   "execution_count": 1130,
   "metadata": {},
   "outputs": [
    {
     "name": "stdout",
     "output_type": "stream",
     "text": [
      "top companies for C1 top sector\n",
      "                    raised_amount_usd\n",
      "company_permalink                   \n",
      "virtustream               64300000.0\n",
      "capella                   54968051.0\n",
      "airtight-networks         54201907.0\n",
      "\n",
      "\n",
      "top companies for C1 2nd best sector\n",
      "                    raised_amount_usd\n",
      "company_permalink                   \n",
      "shotspotter               67933006.0\n",
      "demandbase                63000000.0\n",
      "intacct                   61800000.0\n"
     ]
    }
   ],
   "source": [
    "print(\"top companies for C1 top sector\\n\",get_top_company_sectorwise(D1,'Others'))\n",
    "print('\\n')\n",
    "print(\"top companies for C1 2nd best sector\\n\",get_top_company_sectorwise(D1,'Social, Finance, Analytics, Advertising'))\n"
   ]
  },
  {
   "cell_type": "code",
   "execution_count": 1131,
   "metadata": {},
   "outputs": [
    {
     "name": "stdout",
     "output_type": "stream",
     "text": [
      "top companies for C2 top sector\n",
      "                    raised_amount_usd\n",
      "company_permalink                   \n",
      "electric-cloud            37000000.0\n",
      "sensage                   36250000.0\n",
      "enigmatic                 32500000.0\n",
      "\n",
      "\n",
      "top companies for C2 2nd best sector\n",
      "                        raised_amount_usd\n",
      "company_permalink                       \n",
      "celltick-technologies         37500000.0\n",
      "mythings                      34000000.0\n",
      "zopa                          32900000.0\n"
     ]
    }
   ],
   "source": [
    "print(\"top companies for C2 top sector\\n\",get_top_company_sectorwise(D2,'Others'))\n",
    "print('\\n')\n",
    "print(\"top companies for C2 2nd best sector\\n\",get_top_company_sectorwise(D2,'Social, Finance, Analytics, Advertising'))\n"
   ]
  },
  {
   "cell_type": "code",
   "execution_count": 1132,
   "metadata": {},
   "outputs": [
    {
     "name": "stdout",
     "output_type": "stream",
     "text": [
      "top companies for C3 top sector\n",
      "                    raised_amount_usd\n",
      "company_permalink                   \n",
      "firstcry-com              39000000.0\n",
      "myntra                    38000000.0\n",
      "commonfloor               32900000.0\n",
      "\n",
      "\n",
      "top companies for C3 2nd best sector\n",
      "                    raised_amount_usd\n",
      "company_permalink                   \n",
      "manthan-systems           50700000.0\n",
      "komli-media               28000000.0\n",
      "shopclues-com             25000000.0\n"
     ]
    }
   ],
   "source": [
    "print(\"top companies for C3 top sector\\n\",get_top_company_sectorwise(D3,'Others'))\n",
    "print('\\n')\n",
    "print(\"top companies for C3 2nd best sector\\n\",get_top_company_sectorwise(D3,'Social, Finance, Analytics, Advertising'))\n"
   ]
  },
  {
   "cell_type": "markdown",
   "metadata": {},
   "source": [
    "PLOTTING GRAPH NUMBER 3 HERE"
   ]
  },
  {
   "cell_type": "code",
   "execution_count": 1133,
   "metadata": {},
   "outputs": [],
   "source": [
    "df1 = get_top_sector_countrywise(D1)\n",
    "df2 = get_top_sector_countrywise(D2)\n",
    "df3 = get_top_sector_countrywise(D3)\n",
    "plot3_df = pd.concat([df1,df2,df3],axis=0,ignore_index=True)"
   ]
  },
  {
   "cell_type": "code",
   "execution_count": 1134,
   "metadata": {},
   "outputs": [
    {
     "data": {
      "image/png": "[encoded data removed]",
      "text/plain": [
       "<Figure size 657.975x432 with 1 Axes>"
      ]
     },
     "metadata": {},
     "output_type": "display_data"
    }
   ],
   "source": [
    "sb.set(style=\"whitegrid\")\n",
    "plt.rcParams.update({'font.size': 14})\n",
    "g = sb.catplot(x=\"country_code\", y=\"investment_count_sectorwise\", hue=\"main_sector\", data=plot3_df,\n",
    "                height=6, kind=\"bar\", palette=\"muted\")\n",
    "g.despine(left=True)\n",
    "g.set_ylabels(\"INVESTMENT COUNT\")\n",
    "g.set_xlabels(\"COUNTRY CODE\")\n",
    "g.savefig('sectorwise_investment.png',dpi=fig1.dpi,bbox_inches='tight')"
   ]
  },
  {
   "cell_type": "markdown",
   "metadata": {},
   "source": [
    "END OF PLOT"
   ]
  },
  {
   "cell_type": "code",
   "execution_count": 1135,
   "metadata": {},
   "outputs": [
    {
     "data": {
      "text/plain": [
       "['', 'abc']"
      ]
     },
     "execution_count": 1135,
     "metadata": {},
     "output_type": "execute_result"
    }
   ],
   "source": [
    "s = '0abc'\n",
    "s.split('0')"
   ]
  },
  {
   "cell_type": "code",
   "execution_count": null,
   "metadata": {},
   "outputs": [],
   "source": []
  }
 ],
 "metadata": {
  "kernelspec": {
   "display_name": "Python 3",
   "language": "python",
   "name": "python3"
  },
  "language_info": {
   "codemirror_mode": {
    "name": "ipython",
    "version": 3
   },
   "file_extension": ".py",
   "mimetype": "text/x-python",
   "name": "python",
   "nbconvert_exporter": "python",
   "pygments_lexer": "ipython3",
   "version": "3.7.0"
  }
 },
 "nbformat": 4,
 "nbformat_minor": 2
}
